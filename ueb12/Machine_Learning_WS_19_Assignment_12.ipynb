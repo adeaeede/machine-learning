{
 "cells": [
  {
   "cell_type": "markdown",
   "metadata": {
    "colab_type": "text",
    "id": "b7jD_5ZbzeoN"
   },
   "source": [
    "# Excercise 2. Generative Adversarial Networks"
   ]
  },
  {
   "cell_type": "code",
   "execution_count": 1,
   "metadata": {
    "colab": {},
    "colab_type": "code",
    "id": "3PeMkTk54HSn"
   },
   "outputs": [],
   "source": [
    "import torch\n",
    "from torch import nn\n",
    "from torch.optim import Adam\n",
    "from torchvision import transforms, datasets\n",
    "from torch.autograd import Variable\n",
    "import matplotlib.pyplot as plt\n",
    "from IPython.display import clear_output\n",
    "import numpy as np\n"
   ]
  },
  {
   "cell_type": "code",
   "execution_count": 2,
   "metadata": {
    "colab": {},
    "colab_type": "code",
    "id": "_3Mzz7zMC37Q"
   },
   "outputs": [],
   "source": [
    "class Discriminator(torch.nn.Module):\n",
    "    def __init__(self):\n",
    "        super(Discriminator, self).__init__()\n",
    "        self.conv1 = nn.Sequential(\n",
    "            nn.Conv2d(\n",
    "                in_channels=3, out_channels=128, kernel_size=4,\n",
    "                stride=2, padding=1, bias=False\n",
    "            ),\n",
    "            nn.LeakyReLU(0.2, inplace=True)\n",
    "        )\n",
    "        self.conv2 = nn.Sequential(\n",
    "            nn.Conv2d(\n",
    "                in_channels=128, out_channels=256, kernel_size=4,\n",
    "                stride=2, padding=1, bias=False\n",
    "            ),\n",
    "            nn.BatchNorm2d(256),\n",
    "            nn.LeakyReLU(0.2, inplace=True)\n",
    "        )\n",
    "        self.conv3 = nn.Sequential(\n",
    "            nn.Conv2d(\n",
    "                in_channels=256, out_channels=512, kernel_size=4,\n",
    "                stride=2, padding=1, bias=False\n",
    "            ),\n",
    "            nn.BatchNorm2d(512),\n",
    "            nn.LeakyReLU(0.2, inplace=True)\n",
    "        )\n",
    "        self.conv4 = nn.Sequential(\n",
    "            nn.Conv2d(\n",
    "                in_channels=512, out_channels=1024, kernel_size=4,\n",
    "                stride=2, padding=1, bias=False\n",
    "            ),\n",
    "            nn.BatchNorm2d(1024),\n",
    "            nn.LeakyReLU(0.2, inplace=True)\n",
    "        )\n",
    "        self.out = nn.Sequential(\n",
    "            nn.Linear(1024 * 4 * 4, 1),\n",
    "            nn.Sigmoid(),\n",
    "        )\n",
    "\n",
    "    def forward(self, x):\n",
    "        x = self.conv1(x)\n",
    "        x = self.conv2(x)\n",
    "        x = self.conv3(x)\n",
    "        x = self.conv4(x)\n",
    "        x = x.view(-1, 1024 * 4 * 4)\n",
    "        x = self.out(x)\n",
    "        return x"
   ]
  },
  {
   "cell_type": "code",
   "execution_count": 3,
   "metadata": {
    "colab": {},
    "colab_type": "code",
    "id": "zidCE6CQC_4T"
   },
   "outputs": [],
   "source": [
    "class Generator(torch.nn.Module):\n",
    "    def __init__(self):\n",
    "        super(Generator, self).__init__()\n",
    "        self.linear = torch.nn.Linear(100, 1024 * 4 * 4)\n",
    "        self.conv1 = nn.Sequential(\n",
    "            nn.ConvTranspose2d(\n",
    "                in_channels=1024, out_channels=512, kernel_size=4,\n",
    "                stride=2, padding=1, bias=False\n",
    "            ),\n",
    "            nn.BatchNorm2d(512),\n",
    "            nn.ReLU(inplace=True)\n",
    "        )\n",
    "        self.conv2 = nn.Sequential(\n",
    "            nn.ConvTranspose2d(\n",
    "                in_channels=512, out_channels=256, kernel_size=4,\n",
    "                stride=2, padding=1, bias=False\n",
    "            ),\n",
    "            nn.BatchNorm2d(256),\n",
    "            nn.ReLU(inplace=True)\n",
    "        )\n",
    "        self.conv3 = nn.Sequential(\n",
    "            nn.ConvTranspose2d(\n",
    "                in_channels=256, out_channels=128, kernel_size=4,\n",
    "                stride=2, padding=1, bias=False\n",
    "            ),\n",
    "            nn.BatchNorm2d(128),\n",
    "            nn.ReLU(inplace=True)\n",
    "        )\n",
    "        self.conv4 = nn.Sequential(\n",
    "            nn.ConvTranspose2d(\n",
    "                in_channels=128, out_channels=3, kernel_size=4,\n",
    "                stride=2, padding=1, bias=False\n",
    "            )\n",
    "        )\n",
    "        self.out = torch.nn.Tanh()\n",
    "\n",
    "    def forward(self, x):\n",
    "        x = self.linear(x)\n",
    "        x = x.view(x.shape[0], 1024, 4, 4)\n",
    "        x = self.conv1(x)\n",
    "        x = self.conv2(x)\n",
    "        x = self.conv3(x)\n",
    "        x = self.conv4(x)\n",
    "        return self.out(x)"
   ]
  },
  {
   "cell_type": "code",
   "execution_count": 5,
   "metadata": {
    "colab": {
     "base_uri": "https://localhost:8080/",
     "height": 34
    },
    "colab_type": "code",
    "id": "oE5FUSh9EKX0",
    "outputId": "71225942-bebd-4b8c-9f73-abba64904f7d"
   },
   "outputs": [
    {
     "name": "stdout",
     "output_type": "stream",
     "text": [
      "Files already downloaded and verified\n"
     ]
    }
   ],
   "source": [
    "compose = transforms.Compose(\n",
    "    [transforms.Resize(64),\n",
    "     transforms.ToTensor(),\n",
    "     transforms.Normalize((.5, .5, .5), (.5, .5, .5))])\n",
    "data = datasets.CIFAR10(root='./cifar', train=True, transform=compose, download=True)\n",
    "batch_size = 128\n",
    "data_loader = torch.utils.data.DataLoader(data, batch_size=batch_size, shuffle=True)\n",
    "num_batches = len(data_loader)\n",
    "\n",
    "def init_weights(m):\n",
    "    classname = m.__class__.__name__\n",
    "    if classname.find('Conv') != -1 or classname.find('BatchNorm') != -1:\n",
    "        m.weight.data.normal_(0.00, 0.02)"
   ]
  },
  {
   "cell_type": "code",
   "execution_count": 6,
   "metadata": {
    "colab": {},
    "colab_type": "code",
    "id": "T_2g5KS7WuKZ"
   },
   "outputs": [],
   "source": [
    "generator = Generator()\n",
    "generator.apply(init_weights)\n",
    "\n",
    "discriminator = Discriminator()\n",
    "discriminator.apply(init_weights)\n",
    "\n",
    "if torch.cuda.is_available():\n",
    "    generator.cuda()\n",
    "    discriminator.cuda()\n",
    "    \n",
    "optimizer_d = Adam(discriminator.parameters(), lr=0.0002, betas=(0.5, 0.999))\n",
    "optimizer_g = Adam(generator.parameters(), lr=0.0002, betas=(0.5, 0.999))\n",
    "\n",
    "loss = nn.BCELoss()"
   ]
  },
  {
   "cell_type": "code",
   "execution_count": 7,
   "metadata": {
    "colab": {},
    "colab_type": "code",
    "id": "9g-N4iBuH6iA"
   },
   "outputs": [],
   "source": [
    "\n",
    "def real_data_target(size):\n",
    "    data = Variable(torch.ones(size, 1))\n",
    "    if torch.cuda.is_available():\n",
    "        return data.cuda()\n",
    "    return data\n",
    "\n",
    "\n",
    "def fake_data_target(size):\n",
    "    data = Variable(torch.zeros(size, 1))\n",
    "    if torch.cuda.is_available():\n",
    "        return data.cuda()\n",
    "    return data\n",
    "  \n",
    "def rand_noise(size):\n",
    "    noise = Variable(torch.randn(size, 100))\n",
    "    if torch.cuda.is_available():\n",
    "        return noise.cuda()\n",
    "    return noise\n",
    "\n",
    "\n",
    "def train_d(optimizer, x_real, x_fake):\n",
    "    optimizer.zero_grad()\n",
    "\n",
    "    y_real = discriminator(x_real)\n",
    "    err_real = loss(y_real, real_data_target(x_real.size(0)))\n",
    "    err_real.backward()\n",
    "\n",
    "    y_fake = discriminator(x_fake)\n",
    "    err_fake = loss(y_fake, fake_data_target(x_real.size(0)))\n",
    "    err_fake.backward()\n",
    "\n",
    "    optimizer.step()\n",
    "\n",
    "    return err_real + err_fake, y_real, y_fake\n",
    "  \n",
    "def train_g(optimizer, x_fake):\n",
    "    optimizer.zero_grad()\n",
    "    y_pred = discriminator(x_fake)\n",
    "    err = loss(y_pred, real_data_target(y_pred.size(0)))\n",
    "    err.backward()\n",
    "    optimizer.step()\n",
    "    return err\n",
    "\n",
    "n_epochs = 100\n",
    "n_test_samples = 1\n",
    "noise = rand_noise(n_test_samples)"
   ]
  },
  {
   "cell_type": "code",
   "execution_count": null,
   "metadata": {
    "colab": {
     "base_uri": "https://localhost:8080/",
     "height": 366
    },
    "colab_type": "code",
    "id": "1yqla8JtJLBR",
    "outputId": "f2abb8cf-206b-42b2-e246-d21c27c8eb79"
   },
   "outputs": [
    {
     "data": {
      "image/png": "[encoded data removed]",
      "text/plain": [
       "<Figure size 432x288 with 1 Axes>"
      ]
     },
     "metadata": {
      "needs_background": "light"
     },
     "output_type": "display_data"
    },
    {
     "name": "stdout",
     "output_type": "stream",
     "text": [
      "Epoch 0/100, d_err: 0.1437235624 g_err: 3.5064907074\n"
     ]
    }
   ],
   "source": [
    "for epoch in range(n_epochs):\n",
    "    for n_batch, (batch, _) in enumerate(data_loader):\n",
    "        x_real = Variable(batch)\n",
    "        if torch.cuda.is_available():\n",
    "            x_real = x_real.cuda()\n",
    "        x_fake = generator(rand_noise(x_real.size(0))).detach()\n",
    "        d_err, d_pred_real, d_pred_fake = train_d(optimizer_d, x_real, x_fake)\n",
    "        x_fake = generator(rand_noise(batch.size(0)))\n",
    "        g_err = train_g(optimizer_g, x_fake)\n",
    "\n",
    "        if (n_batch) % 100 == 0:\n",
    "            clear_output()\n",
    "            image = generator(noise).data.cpu()\n",
    "            npimg = image.numpy()\n",
    "            plt.imshow((npimg.reshape(64,64,3) * 255).astype(np.uint8), interpolation='nearest')\n",
    "            plt.show()\n",
    "            print('Epoch %d/%d, d_err: %.10f g_err: %.10f' % (\n",
    "            epoch, n_epochs, d_err, g_err))"
   ]
  },
  {
   "cell_type": "markdown",
   "metadata": {
    "colab_type": "text",
    "id": "EmpIsg2BvdGh"
   },
   "source": [
    "# Results\n",
    "\n",
    "After over 12 hours of training using Google Colab only 2 epochs have passed.\n",
    "\n",
    "The results are not that satisfying. \n",
    "\n",
    "With lot more computational power and time we could achive much better results."
   ]
  },
  {
   "cell_type": "markdown",
   "metadata": {
    "colab_type": "text",
    "id": "50UzdwLkzs6a"
   },
   "source": [
    "Untofrunetly our connection to Google Colab broke and the runtime has been restarted.\n",
    "\n",
    "In order not to lose the training result we did not reexecute the last cell."
   ]
  }
 ],
 "metadata": {
  "colab": {
   "collapsed_sections": [],
   "name": "Machine_Learning_WS_19_Assignment_12.ipynb",
   "provenance": [],
   "version": "0.3.2"
  },
  "kernelspec": {
   "display_name": "Python 3",
   "language": "python",
   "name": "python3"
  },
  "language_info": {
   "codemirror_mode": {
    "name": "ipython",
    "version": 3
   },
   "file_extension": ".py",
   "mimetype": "text/x-python",
   "name": "python",
   "nbconvert_exporter": "python",
   "pygments_lexer": "ipython3",
   "version": "3.7.2"
  }
 },
 "nbformat": 4,
 "nbformat_minor": 1
}
