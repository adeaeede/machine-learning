{
 "cells": [
  {
   "cell_type": "code",
   "execution_count": 2,
   "metadata": {
    "scrolled": false
   },
   "outputs": [
    {
     "name": "stdout",
     "output_type": "stream",
     "text": [
      "k 1\n",
      "Accuracy 0.9436970602889886\n",
      "Predicted    0    1    2    3    4    5    6    7    8    9\n",
      "Actual                                                     \n",
      "0          355    0    2    0    0    0    0    1    0    1\n",
      "1            0  255    0    0    6    0    2    1    0    0\n",
      "2            6    1  183    2    1    0    0    2    3    0\n",
      "3            3    0    2  154    0    5    0    0    0    2\n",
      "4            0    3    1    0  182    1    2    2    1    8\n",
      "5            2    1    2    4    0  145    2    0    3    1\n",
      "6            0    0    1    0    2    3  164    0    0    0\n",
      "7            0    1    1    1    4    0    0  139    0    1\n",
      "8            5    0    1    6    1    1    0    1  148    3\n",
      "9            0    0    1    0    2    0    0    4    1  169\n"
     ]
    },
    {
     "data": {
      "image/png": "[encoded data removed]",
      "text/plain": [
       "<Figure size 432x288 with 1 Axes>"
      ]
     },
     "metadata": {
      "needs_background": "light"
     },
     "output_type": "display_data"
    },
    {
     "name": "stdout",
     "output_type": "stream",
     "text": [
      "k 2\n",
      "Accuracy 0.9412057797708022\n",
      "Predicted    0    1    2    3    4    5    6    7    8    9\n",
      "Actual                                                     \n",
      "0          355    0    3    0    0    0    0    0    0    1\n",
      "1            0  259    0    0    3    0    1    1    0    0\n",
      "2           10    1  181    1    2    0    0    2    1    0\n",
      "3            3    0    2  156    0    4    0    0    0    1\n",
      "4            0    3    4    0  185    1    2    3    0    2\n",
      "5            4    1    2    8    0  143    0    0    1    1\n",
      "6            4    0    1    0    2    2  161    0    0    0\n",
      "7            0    2    1    1    4    0    0  139    0    0\n",
      "8            6    0    3    5    1    1    1    1  146    2\n",
      "9            1    1    1    0    5    1    0    4    0  164\n"
     ]
    },
    {
     "data": {
      "image/png": "[encoded data removed]",
      "text/plain": [
       "<Figure size 432x288 with 1 Axes>"
      ]
     },
     "metadata": {
      "needs_background": "light"
     },
     "output_type": "display_data"
    },
    {
     "name": "stdout",
     "output_type": "stream",
     "text": [
      "k 3\n",
      "Accuracy 0.9446935724962631\n",
      "Predicted    0    1    2    3    4    5    6    7    8    9\n",
      "Actual                                                     \n",
      "0          355    0    3    0    0    0    0    0    0    1\n",
      "1            0  258    0    0    3    0    2    1    0    0\n",
      "2            8    0  183    1    1    0    0    2    3    0\n",
      "3            3    0    2  153    0    6    0    1    0    1\n",
      "4            0    2    0    0  183    2    2    2    1    8\n",
      "5            5    0    3    3    0  144    0    0    1    4\n",
      "6            3    1    1    0    2    0  163    0    0    0\n",
      "7            0    1    1    1    4    0    0  138    1    1\n",
      "8            4    0    3    4    0    1    0    1  151    2\n",
      "9            2    0    0    0    3    0    0    4    0  168\n"
     ]
    },
    {
     "data": {
      "image/png": "[encoded data removed]",
      "text/plain": [
       "<Figure size 432x288 with 1 Axes>"
      ]
     },
     "metadata": {
      "needs_background": "light"
     },
     "output_type": "display_data"
    },
    {
     "name": "stdout",
     "output_type": "stream",
     "text": [
      "k 4\n",
      "Accuracy 0.9431988041853513\n",
      "Predicted    0    1    2    3    4    5    6    7    8    9\n",
      "Actual                                                     \n",
      "0          355    0    3    0    0    0    0    0    0    1\n",
      "1            0  258    0    0    4    0    2    0    0    0\n",
      "2            7    0  183    1    1    0    1    2    3    0\n",
      "3            3    0    2  155    0    3    0    1    0    2\n",
      "4            0    3    1    0  184    0    2    2    1    7\n",
      "5            2    0    2    9    0  143    0    0    0    4\n",
      "6            4    0    2    0    2    0  162    0    0    0\n",
      "7            0    2    1    1    3    1    0  137    1    1\n",
      "8            6    2    1    4    0    2    0    2  148    1\n",
      "9            1    0    0    0    3    0    0    4    1  168\n"
     ]
    },
    {
     "data": {
      "image/png": "[encoded data removed]",
      "text/plain": [
       "<Figure size 432x288 with 1 Axes>"
      ]
     },
     "metadata": {
      "needs_background": "light"
     },
     "output_type": "display_data"
    },
    {
     "name": "stdout",
     "output_type": "stream",
     "text": [
      "k 5\n",
      "Accuracy 0.9446935724962631\n",
      "Predicted    0    1    2    3    4    5    6    7    8    9\n",
      "Actual                                                     \n",
      "0          354    0    3    0    0    0    1    0    0    1\n",
      "1            0  259    0    0    3    0    2    0    0    0\n",
      "2            7    0  182    1    1    0    1    2    4    0\n",
      "3            2    0    2  154    0    5    0    1    0    2\n",
      "4            0    4    1    0  183    0    2    2    0    8\n",
      "5            5    0    1    7    0  144    0    0    0    3\n",
      "6            3    0    2    0    2    0  163    0    0    0\n",
      "7            0    3    1    0    4    1    0  138    0    0\n",
      "8            5    0    0    4    0    2    1    1  151    2\n",
      "9            1    0    0    0    3    1    0    4    0  168\n"
     ]
    },
    {
     "data": {
      "image/png": "[encoded data removed]",
      "text/plain": [
       "<Figure size 432x288 with 1 Axes>"
      ]
     },
     "metadata": {
      "needs_background": "light"
     },
     "output_type": "display_data"
    },
    {
     "name": "stdout",
     "output_type": "stream",
     "text": [
      "k 6\n",
      "Accuracy 0.9387144992526159\n",
      "Predicted    0    1    2    3    4    5    6    7    8    9\n",
      "Actual                                                     \n",
      "0          354    0    3    0    0    0    1    0    0    1\n",
      "1            0  258    0    0    4    0    2    0    0    0\n",
      "2            7    0  182    1    1    0    1    2    4    0\n",
      "3            2    0    2  155    0    4    0    1    0    2\n",
      "4            0    3    1    0  183    0    2    2    0    9\n",
      "5            5    0    1    7    0  142    0    0    1    4\n",
      "6            3    0    3    0    2    0  162    0    0    0\n",
      "7            0    3    1    1    3    1    0  138    0    0\n",
      "8            6    3    0    5    0    4    2    2  143    1\n",
      "9            1    0    0    0    3    1    0    5    0  167\n"
     ]
    },
    {
     "data": {
      "image/png": "[encoded data removed]",
      "text/plain": [
       "<Figure size 432x288 with 1 Axes>"
      ]
     },
     "metadata": {
      "needs_background": "light"
     },
     "output_type": "display_data"
    },
    {
     "name": "stdout",
     "output_type": "stream",
     "text": [
      "k 7\n",
      "Accuracy 0.9417040358744395\n",
      "Predicted    0    1    2    3    4    5    6    7    8    9\n",
      "Actual                                                     \n",
      "0          354    0    2    0    1    0    1    0    0    1\n",
      "1            0  258    0    0    4    0    2    0    0    0\n",
      "2            7    0  182    1    1    0    1    2    4    0\n",
      "3            2    0    2  155    0    4    0    1    0    2\n",
      "4            0    4    1    0  182    0    2    2    0    9\n",
      "5            5    0    1    4    0  146    0    0    1    3\n",
      "6            3    1    2    0    2    0  162    0    0    0\n",
      "7            0    3    1    0    3    1    0  138    0    1\n",
      "8            5    3    0    5    0    4    1    1  145    2\n",
      "9            1    0    0    0    2    1    0    5    0  168\n"
     ]
    },
    {
     "data": {
      "image/png": "[encoded data removed]",
      "text/plain": [
       "<Figure size 432x288 with 1 Axes>"
      ]
     },
     "metadata": {
      "needs_background": "light"
     },
     "output_type": "display_data"
    },
    {
     "name": "stdout",
     "output_type": "stream",
     "text": [
      "k 8\n",
      "Accuracy 0.9407075236671649\n",
      "Predicted    0    1    2    3    4    5    6    7    8    9\n",
      "Actual                                                     \n",
      "0          354    0    2    0    1    0    1    0    0    1\n",
      "1            0  258    0    0    4    0    2    0    0    0\n",
      "2            7    0  182    1    1    0    1    2    4    0\n",
      "3            4    0    1  155    0    4    0    1    0    1\n",
      "4            0    4    2    0  182    0    2    2    0    8\n",
      "5            5    0    1    4    0  145    0    0    1    4\n",
      "6            3    0    2    0    2    2  161    0    0    0\n",
      "7            0    3    1    0    3    1    0  138    0    1\n",
      "8            6    3    0    6    0    2    1    1  145    2\n",
      "9            1    0    0    0    2    1    0    5    0  168\n"
     ]
    },
    {
     "data": {
      "image/png": "[encoded data removed]",
      "text/plain": [
       "<Figure size 432x288 with 1 Axes>"
      ]
     },
     "metadata": {
      "needs_background": "light"
     },
     "output_type": "display_data"
    },
    {
     "name": "stdout",
     "output_type": "stream",
     "text": [
      "k 9\n",
      "Accuracy 0.9372197309417041\n",
      "Predicted    0    1    2    3    4    5    6    7    8    9\n",
      "Actual                                                     \n",
      "0          354    0    2    0    1    0    1    0    0    1\n",
      "1            0  259    0    0    3    0    2    0    0    0\n",
      "2            7    2  180    2    1    0    0    2    4    0\n",
      "3            3    0    2  154    0    5    0    1    0    1\n",
      "4            0    4    2    0  179    0    2    2    0   11\n",
      "5            5    0    1    4    0  145    0    0    1    4\n",
      "6            3    0    2    0    2    1  161    0    1    0\n",
      "7            0    3    1    0    4    1    0  137    0    1\n",
      "8            7    3    2    3    0    3    1    0  144    3\n",
      "9            1    0    1    0    1    1    0    5    0  168\n"
     ]
    },
    {
     "data": {
      "image/png": "[encoded data removed]",
      "text/plain": [
       "<Figure size 432x288 with 1 Axes>"
      ]
     },
     "metadata": {
      "needs_background": "light"
     },
     "output_type": "display_data"
    },
    {
     "name": "stdout",
     "output_type": "stream",
     "text": [
      "k 10\n",
      "Accuracy 0.9357249626307922\n",
      "Predicted    0    1    2    3    4    5    6    7    8    9\n",
      "Actual                                                     \n",
      "0          354    0    2    0    1    0    1    0    0    1\n",
      "1            0  258    0    0    3    0    3    0    0    0\n",
      "2            7    2  180    2    1    0    0    2    4    0\n",
      "3            3    0    2  153    0    6    0    1    0    1\n",
      "4            0    4    2    0  181    0    2    2    0    9\n",
      "5            5    0    1    5    0  143    0    0    1    5\n",
      "6            4    0    2    0    2    1  160    0    1    0\n",
      "7            0    3    1    0    4    1    0  137    0    1\n",
      "8            7    3    0    6    0    2    1    1  144    2\n",
      "9            1    0    0    0    1    1    0    5    1  168\n"
     ]
    },
    {
     "data": {
      "image/png": "[encoded data removed]",
      "text/plain": [
       "<Figure size 432x288 with 1 Axes>"
      ]
     },
     "metadata": {
      "needs_background": "light"
     },
     "output_type": "display_data"
    },
    {
     "name": "stdout",
     "output_type": "stream",
     "text": [
      "k 11\n",
      "Accuracy 0.9312406576980568\n",
      "Predicted    0    1    2    3    4    5    6    7    8    9\n",
      "Actual                                                     \n",
      "0          354    0    2    0    1    0    1    0    0    1\n",
      "1            0  258    0    0    3    0    3    0    0    0\n",
      "2            7    2  179    2    1    0    1    2    4    0\n",
      "3            3    0    2  153    0    6    0    1    0    1\n",
      "4            0    4    2    0  178    0    2    2    0   12\n",
      "5            6    0    0    4    1  143    0    0    1    5\n",
      "6            5    0    2    0    2    1  159    0    1    0\n",
      "7            0    4    1    0    4    1    0  135    1    1\n",
      "8            7    3    1    6    0    2    2    2  142    1\n",
      "9            1    0    0    0    1    0    0    5    2  168\n"
     ]
    },
    {
     "data": {
      "image/png": "[encoded data removed]",
      "text/plain": [
       "<Figure size 432x288 with 1 Axes>"
      ]
     },
     "metadata": {
      "needs_background": "light"
     },
     "output_type": "display_data"
    },
    {
     "name": "stdout",
     "output_type": "stream",
     "text": [
      "k 12\n",
      "Accuracy 0.9307424015944196\n",
      "Predicted    0    1    2    3    4    5    6    7    8    9\n",
      "Actual                                                     \n",
      "0          354    0    2    0    1    0    1    0    0    1\n",
      "1            0  258    0    0    3    0    3    0    0    0\n",
      "2            8    2  179    2    1    0    1    2    3    0\n",
      "3            3    0    2  151    0    7    0    1    0    2\n",
      "4            0    4    2    0  179    0    2    2    0   11\n",
      "5            6    0    2    5    0  141    0    1    1    4\n",
      "6            5    0    2    0    2    1  159    0    1    0\n",
      "7            0    4    1    0    4    1    0  135    1    1\n",
      "8            7    3    0    4    0    3    2    2  144    1\n",
      "9            1    0    0    0    2    0    0    5    1  168\n"
     ]
    },
    {
     "data": {
      "image/png": "[encoded data removed]",
      "text/plain": [
       "<Figure size 432x288 with 1 Axes>"
      ]
     },
     "metadata": {
      "needs_background": "light"
     },
     "output_type": "display_data"
    },
    {
     "name": "stdout",
     "output_type": "stream",
     "text": [
      "k 13\n",
      "Accuracy 0.929745889387145\n",
      "Predicted    0    1    2    3    4    5    6    7    8    9\n",
      "Actual                                                     \n",
      "0          354    0    2    0    1    0    1    0    0    1\n",
      "1            0  258    0    0    3    0    3    0    0    0\n",
      "2            8    2  178    2    1    0    1    2    4    0\n",
      "3            3    0    2  151    0    7    0    1    0    2\n",
      "4            0    4    2    0  178    0    2    2    0   12\n",
      "5            7    0    1    6    0  141    0    0    1    4\n",
      "6            4    0    2    0    2    1  160    0    1    0\n",
      "7            0    4    1    0    4    1    0  135    1    1\n",
      "8            7    3    0    6    0    2    2    2  143    1\n",
      "9            1    0    0    0    1    0    0    5    2  168\n"
     ]
    },
    {
     "data": {
      "image/png": "[encoded data removed]",
      "text/plain": [
       "<Figure size 432x288 with 1 Axes>"
      ]
     },
     "metadata": {
      "needs_background": "light"
     },
     "output_type": "display_data"
    },
    {
     "name": "stdout",
     "output_type": "stream",
     "text": [
      "k 14\n",
      "Accuracy 0.9292476332835077\n",
      "Predicted    0    1    2    3    4    5    6    7    8    9\n",
      "Actual                                                     \n",
      "0          354    0    2    0    1    0    1    0    0    1\n",
      "1            0  258    0    0    3    0    3    0    0    0\n",
      "2            8    2  179    2    1    0    1    2    3    0\n",
      "3            3    0    2  151    0    7    0    1    0    2\n",
      "4            0    4    2    0  179    0    2    2    0   11\n",
      "5            7    0    1    5    0  140    0    1    1    5\n",
      "6            5    0    2    0    2    1  159    0    1    0\n",
      "7            0    4    1    0    4    1    0  136    1    0\n",
      "8            7    3    1    7    0    2    2    2  141    1\n",
      "9            1    0    0    0    1    0    0    5    2  168\n"
     ]
    },
    {
     "data": {
      "image/png": "[encoded data removed]",
      "text/plain": [
       "<Figure size 432x288 with 1 Axes>"
      ]
     },
     "metadata": {
      "needs_background": "light"
     },
     "output_type": "display_data"
    },
    {
     "name": "stdout",
     "output_type": "stream",
     "text": [
      "k 15\n",
      "Accuracy 0.9302441454907823\n",
      "Predicted    0    1    2    3    4    5    6    7    8    9\n",
      "Actual                                                     \n",
      "0          354    0    2    0    1    0    1    0    0    1\n",
      "1            0  258    0    0    3    0    3    0    0    0\n",
      "2            8    2  178    2    1    0    1    2    4    0\n",
      "3            3    0    2  152    0    6    0    1    0    2\n",
      "4            0    4    2    0  179    0    2    2    0   11\n",
      "5            7    0    1    4    0  141    0    1    1    5\n",
      "6            5    0    2    0    2    0  160    0    1    0\n",
      "7            0    4    1    0    4    1    0  136    1    0\n",
      "8            7    3    1    7    0    2    2    2  141    1\n",
      "9            1    0    0    0    1    0    0    5    2  168\n"
     ]
    },
    {
     "data": {
      "image/png": "[encoded data removed]",
      "text/plain": [
       "<Figure size 432x288 with 1 Axes>"
      ]
     },
     "metadata": {
      "needs_background": "light"
     },
     "output_type": "display_data"
    }
   ],
   "source": [
    "import numpy as np\n",
    "import pandas as pd\n",
    "import matplotlib.pyplot as plt\n",
    "\n",
    "\n",
    "\n",
    "class KNNClassifier:\n",
    "    def __init__(self, train_x, train_y):\n",
    "        self._train_x = train_x\n",
    "        self._train_y = train_y\n",
    "\n",
    "    def classify(self, X, k):\n",
    "        def classify_single(x):\n",
    "            distances = np.sqrt(np.sum(np.square(self._train_x - x), axis=1))\n",
    "            nearest_labels = self._train_y[np.argpartition(distances, k)[:k]]\n",
    "            predicted = np.argmax(np.bincount(nearest_labels))\n",
    "            return predicted\n",
    "        if X.ndim == 1:\n",
    "            return classify_single(X)\n",
    "        elif X.ndim == 2:\n",
    "            y_pred = np.empty(len(X), dtype=np.uint8)\n",
    "            for i in range(len(X)):\n",
    "                y_pred[i] = classify_single(X[i])\n",
    "            return y_pred\n",
    "        else:\n",
    "            raise ValueError('invalid input shape')\n",
    "\n",
    "\n",
    "if __name__ == '__main__':\n",
    "    _training_data = np.array(pd.read_csv('zip.train', sep=' ', header=None),\n",
    "                              dtype=np.float32)\n",
    "    _test_data = np.array(pd.read_csv('zip.test', sep=' ', header=None),\n",
    "                          dtype=np.float32)\n",
    "\n",
    "    _train_x = _training_data[:, 1:-1]\n",
    "    _train_y = _training_data[:, 0].astype(np.uint8)\n",
    "\n",
    "    _test_x = _test_data[:, 1:]\n",
    "    _test_y = _test_data[:, 0].astype(np.uint8)\n",
    "\n",
    "    for k in range(1, 16):\n",
    "        _n_test_samples = 2007\n",
    "        _knn = KNNClassifier(_train_x, _train_y)\n",
    "        _y_pred = _knn.classify(_test_x[:_n_test_samples], k)\n",
    "        _accuracy = np.sum(np.equal(_y_pred, _test_y[:_n_test_samples])) / len(_y_pred)\n",
    "        _true_neg = _test_x[:_n_test_samples][np.where(np.not_equal(_y_pred, _test_y[:_n_test_samples]))]\n",
    "        _conf_m = pd.crosstab(pd.Series(_test_y[:_n_test_samples], name='Actual'),\n",
    "                              pd.Series(_y_pred, name='Predicted'))        \n",
    "        plt.imshow(_true_neg[np.random.randint(0,_true_neg.shape[0])].reshape(16,16), cmap='gray')\n",
    "        print('k', k)\n",
    "        print('Accuracy', _accuracy)\n",
    "        print(_conf_m)\n",
    "        plt.show()\n",
    "        \n",
    "        \n",
    "        \n",
    "        \n",
    "        \n",
    "        "
   ]
  },
  {
   "cell_type": "code",
   "execution_count": null,
   "metadata": {},
   "outputs": [],
   "source": [
    "Beste Ergebnisse wurden mit dem Werten k=3 und k=5 erreicht.\n",
    "\n",
    "Vorteile des kNN Classifiers\n",
    "    - Einfach zum Implementieren\n",
    "    - Keine Trainigsphase\n",
    "Nachteile des kNN Classifiers\n",
    "    - Kurze trainingsphase dafür aber lange testphase\n",
    "    - Das testen verbraucht sehr viele Resourcen\n",
    "    - Ungenau bei höheren Dimensionen, wegen kleinen Unterschied der Abstände\n",
    "      der jeweiligen Datenpunkte\n"
   ]
  }
 ],
 "metadata": {
  "kernelspec": {
   "display_name": "Python 3",
   "language": "python",
   "name": "python3"
  },
  "language_info": {
   "codemirror_mode": {
    "name": "ipython",
    "version": 3
   },
   "file_extension": ".py",
   "mimetype": "text/x-python",
   "name": "python",
   "nbconvert_exporter": "python",
   "pygments_lexer": "ipython3",
   "version": "3.7.0"
  }
 },
 "nbformat": 4,
 "nbformat_minor": 2
}
