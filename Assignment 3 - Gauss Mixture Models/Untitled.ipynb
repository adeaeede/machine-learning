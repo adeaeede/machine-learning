{
 "cells": [
  {
   "cell_type": "code",
   "execution_count": 2,
   "metadata": {},
   "outputs": [],
   "source": [
    "import pandas as pd\n",
    "import numpy as np\n",
    "import matplotlib.pyplot as plt\n",
    "import random.uniform"
   ]
  },
  {
   "cell_type": "code",
   "execution_count": 87,
   "metadata": {},
   "outputs": [],
   "source": [
    "class Gaussian:\n",
    "    def __init__(self, mu, sigma):\n",
    "        self.mu = mu\n",
    "        self.sigma = sigma\n",
    "        \n",
    "    def pdf(self, datapoint):\n",
    "        return (1/(self.sigma*(np.sqrt(2*np.pi))))*np.exp(-(pow(datapoint-self.mu,2)/(2*pow(self.sigma,2))))"
   ]
  },
  {
   "cell_type": "code",
   "execution_count": 119,
   "metadata": {},
   "outputs": [],
   "source": [
    "class GaussianMixtureModel:\n",
    "    \n",
    "    # Take initial guesses for the parameters\n",
    "    def __init__(self, data):\n",
    "        self.data = data\n",
    "        self.N = data.shape[0]\n",
    "        sigma = np.sum(np.square((np.mean(data) - np.std(data))))/self.N\n",
    "        mu = np.random.uniform(min(data),max(data),2)\n",
    "        self.y1 = Gaussian(mu[0], sigma)\n",
    "        self.y2 = Gaussian(mu[1], sigma)\n",
    "        self.mix = .5\n",
    "        self.logLH = 0\n",
    "        \n",
    "    # Compute the responsibilities    \n",
    "    def EStep(self):\n",
    "        self.gamma = np.zeros([self.N,1])\n",
    "        for index, point in enumerate(self.data):\n",
    "            phi1, phi2 = self.y1.pdf(point), self.y2.pdf(point)\n",
    "            weight1, weight2 = (1 - self.mix) * phi1, self.mix * phi2\n",
    "            self.logLH += np.log(weight1 + weight2)\n",
    "            self.gamma[index] = weight2/(weight1 - weight2)\n",
    "      \n",
    "    def MStep(self):\n",
    "        self.y1.mu = np.sum((1 - self.gamma) * self.data)/np.sum(1 - self.gamma)\n",
    "        self.y1.sigma = np.sum((1 - self.gamma) * np.square(self.data - self.y1.mu))\n",
    "        self.y2.mu = np.sum(self.gamma * self.data)/np.sum(self.gamma)\n",
    "        self.y2.sigma = np.sum(self.gamma * np.square(self.data - self.y2.mu))/np.sum(self.gamma)\n",
    "        self.mix = np.sum(self.gamma)/self.N\n",
    "        print('y1mu', self.y1.mu)\n",
    "        print('y1sigma', self.y1.sigma)\n",
    "        print('y2mu', self.y2.mu)\n",
    "        print('y2sigma', self.y2.sigma)\n",
    "        print('mix', self.mix)\n",
    "        \n",
    "    def str(self):\n",
    "        print('Gaussian y1.mu:%s, y1.sigma:%f, y2.mu:%f, y2.sigma:%f' % (self.y1.mu.astype(float),\n",
    "                                                                                 self.y1.sigma.astype(float),\n",
    "                                                                                self.y2.mu.astype(float),\n",
    "                                                                                self.y2.sigma.astype(float)))"
   ]
  },
  {
   "cell_type": "code",
   "execution_count": 120,
   "metadata": {
    "scrolled": true
   },
   "outputs": [
    {
     "name": "stdout",
     "output_type": "stream",
     "text": [
      "y1mu 0   NaN\n",
      "1   NaN\n",
      "dtype: float64\n",
      "y1sigma 0    0.0\n",
      "1    0.0\n",
      "dtype: float64\n",
      "y2mu 0   NaN\n",
      "1   NaN\n",
      "dtype: float64\n",
      "y2sigma 0   NaN\n",
      "1   NaN\n",
      "dtype: float64\n",
      "mix nan\n"
     ]
    },
    {
     "name": "stderr",
     "output_type": "stream",
     "text": [
      "/usr/local/lib/python3.7/site-packages/ipykernel_launcher.py:20: RuntimeWarning: divide by zero encountered in log\n",
      "/usr/local/lib/python3.7/site-packages/ipykernel_launcher.py:21: RuntimeWarning: invalid value encountered in double_scalars\n"
     ]
    }
   ],
   "source": [
    "df = pd.read_csv('2d-em.csv', header=None)\n",
    "GMM = GaussianMixtureModel(df)\n",
    "best_logLH = float('-inf')\n",
    "best_GMM = None\n",
    "\n",
    "for i in range(1,10):\n",
    "    try:\n",
    "        GMM.EStep();\n",
    "        GMM.MStep();\n",
    "        #GMM.str()\n",
    "        if GMM.logLH > best_logLH:\n",
    "            best_logLH = GMM.logLH\n",
    "            best_GMM = GMM\n",
    "    except (ZeroDivisionError, ValueError, RuntimeWarning):\n",
    "        pass\n",
    "    "
   ]
  },
  {
   "cell_type": "markdown",
   "metadata": {},
   "source": [
    "%%markdown\n",
    "\n",
    "1. Init with 2x2 matrix (mean, std)\n",
    "\n",
    "2. For every column (feature) a separate distribution\n",
    "\n",
    "3. Choose random k points from the dataset \n",
    "\n",
    "4. Sigma for each cluster vector s"
   ]
  },
  {
   "cell_type": "code",
   "execution_count": null,
   "metadata": {},
   "outputs": [],
   "source": []
  }
 ],
 "metadata": {
  "kernelspec": {
   "display_name": "Python 3",
   "language": "python",
   "name": "python3"
  },
  "language_info": {
   "codemirror_mode": {
    "name": "ipython",
    "version": 3
   },
   "file_extension": ".py",
   "mimetype": "text/x-python",
   "name": "python",
   "nbconvert_exporter": "python",
   "pygments_lexer": "ipython3",
   "version": "3.7.0"
  }
 },
 "nbformat": 4,
 "nbformat_minor": 2
}
