{
 "cells": [
  {
   "cell_type": "markdown",
   "metadata": {},
   "source": [
    "Adrian Gruszczynski / Yann Salimi"
   ]
  },
  {
   "cell_type": "code",
   "execution_count": 1,
   "metadata": {},
   "outputs": [],
   "source": [
    "import numpy as np\n",
    "import pandas as pd\n",
    "import scipy.stats as ss\n",
    "import matplotlib.pyplot as plt\n",
    "%matplotlib inline"
   ]
  },
  {
   "cell_type": "markdown",
   "metadata": {},
   "source": [
    "# Random probability distribution X with support {-50,50}"
   ]
  },
  {
   "cell_type": "code",
   "execution_count": 4,
   "metadata": {},
   "outputs": [],
   "source": [
    "class XNormDiscrete:\n",
    "\n",
    "    def __init__(self, mu, sigma, size):\n",
    "        self.mu = mu\n",
    "        self.sigma = sigma\n",
    "        self.size = size\n",
    "\n",
    "    def random(self):\n",
    "        x = np.random.normal(self.mu, self.sigma, self.size)\n",
    "        x = self.minmax_scale(x, -51, 50)\n",
    "        return x\n",
    "\n",
    "    def minmax_scale(self, a, x, y):\n",
    "        min, max = np.max(a), np.min(a)\n",
    "        range = max - min\n",
    "        a = (a - min) / range\n",
    "        return a * (y - x) + x"
   ]
  },
  {
   "cell_type": "markdown",
   "metadata": {},
   "source": [
    "# Hill Climbing implementation"
   ]
  },
  {
   "cell_type": "code",
   "execution_count": 42,
   "metadata": {},
   "outputs": [],
   "source": [
    "class HillClimbing:\n",
    "\n",
    "    def __init__(self, x, epsilon):\n",
    "        self.x = x\n",
    "        self.epsilon = epsilon\n",
    "        self.n = len(x)\n",
    "        self.hx_max = 0\n",
    "        self.hvarx_max = 0\n",
    "        self.lambda_ = .01\n",
    "\n",
    "    def get_hx_max(self):\n",
    "        pu = np.ones(self.n) * 1 / self.n\n",
    "        self.hx_max = ss.entropy(pu, base=2)\n",
    "        print('Maximal entropy for given X: ', self.hx_max)\n",
    "\n",
    "    def get_hvarx_max(self):\n",
    "        vx = np.var(self.x)\n",
    "        var_max = vx + self.epsilon * vx  # opt for epsilon % better variance\n",
    "        self.get_hx_max()\n",
    "        self.hvarx_max = self.hx_max + (self.lambda_ * var_max)\n",
    "        print('Opt for entropy + variance: ', self.hvarx_max)\n",
    "\n",
    "    def normalize(self, px):\n",
    "        return px / np.sum(px)\n",
    "\n",
    "    def climb_entropy(self):\n",
    "        best_hx = 0\n",
    "        px = ss.norm.pdf(self.x, 1, .2)\n",
    "        print('Initial entropy', ss.entropy(px, base=2))\n",
    "        self.plothist(self.x, 'Initial X')\n",
    "        self.get_hx_max()\n",
    "        px = self.normalize(px)\n",
    "        while best_hx < self.hx_max - self.epsilon:\n",
    "            rn = np.random.lognormal(size=self.n)\n",
    "            rn = rn / np.sum(rn)\n",
    "            px += rn\n",
    "            hx = ss.entropy(px, base=2)\n",
    "            if hx > best_hx:\n",
    "                best_hx = hx\n",
    "            else:\n",
    "                px -= rn\n",
    "        px = self.normalize(px)\n",
    "        x = np.random.choice(self.x, size=self.n, p=px)\n",
    "        self.plothist(x, 'H(X) maximized')\n",
    "        return best_hx\n",
    "\n",
    "    def climb_entropy_variance(self):\n",
    "        best_hvarx = 0\n",
    "        px = ss.norm.pdf(self.x, 1, .2)\n",
    "        print('Initial variance', np.var(self.x))\n",
    "        print('Initial entropy', ss.entropy(px, base=2))\n",
    "        self.plothist(self.x, 'Initial X')\n",
    "        px = self.normalize(px)\n",
    "        self.get_hvarx_max()\n",
    "        while best_hvarx < self.hvarx_max:\n",
    "            rn = np.random.lognormal(size=self.n)\n",
    "            rn = rn / np.sum(rn)\n",
    "            px += rn\n",
    "            hx = ss.entropy(px, base=2)\n",
    "            x = np.random.choice(self.x, size=self.n, p=self.normalize(px))\n",
    "            vx = np.var(x)\n",
    "            hvarx = hx + (self.lambda_ * vx)\n",
    "            if hvarx > best_hvarx:\n",
    "                best_hvarx = hvarx\n",
    "            else:\n",
    "                px -= rn\n",
    "        self.plothist(x, 'Maximized H(X) + .01 * V(X)')\n",
    "        print('Achieved variance: ', vx)\n",
    "        return best_hvarx\n",
    "\n",
    "    def kl_div_pq(self, mu, sigma):\n",
    "        z = np.random.normal(loc=mu, scale=sigma, size=self.n)\n",
    "        pz = ss.norm.pdf(z, loc=mu, scale=sigma)\n",
    "        pz = self.normalize(pz)\n",
    "        return np.sum(ss.entropy(self.x, pz, base=2))\n",
    "\n",
    "    def kl_div_qp(self, mu, sigma):\n",
    "        z = np.random.normal(loc=mu, scale=sigma, size=self.n)\n",
    "        pz = ss.norm.pdf(z, loc=mu, scale=sigma)\n",
    "        pz = self.normalize(pz)\n",
    "        return np.sum(ss.entropy(pz, self.x, base=2))\n",
    "\n",
    "    def climb_kl_div(self, iter_n):\n",
    "        kl_div, best_kl_div = 0, 100\n",
    "        while best_kl_div > self.epsilon:\n",
    "            mu = np.random.uniform(-.1, .1)\n",
    "            sigma = np.random.uniform(0, .1)\n",
    "            if iter_n == 'pq':\n",
    "                kl_div = self.kl_div_pq(mu, sigma)\n",
    "            elif iter_n == 'qp':\n",
    "                kl_div = self.kl_div_qp(mu, sigma)\n",
    "            else:\n",
    "                return\n",
    "            if kl_div < best_kl_div:\n",
    "                best_kl_div = kl_div\n",
    "        self.plotpdf(mu, sigma)\n",
    "        return best_kl_div\n",
    "    \n",
    "    def plothist(self, x, title):\n",
    "        plt.hist(x, bins=len(x))\n",
    "        plt.title(title)\n",
    "        plt.axis([-51, 51, 0, 15])\n",
    "        plt.show()\n",
    "\n",
    "    def plotpdf(self, mu, sigma):\n",
    "        z = np.random.normal(loc=mu, scale=sigma, size=self.n)\n",
    "        z.sort()\n",
    "        y = np.random.choice(z, size=self.n, p=self.x)\n",
    "        y.sort()\n",
    "        fit_z = ss.norm.pdf(z, np.mean(z), np.std(z))\n",
    "        fit_z = self.normalize(fit_z)\n",
    "        fit_y = ss.norm.pdf(y, np.mean(y), np.std(y))\n",
    "        fit_y = self.normalize(fit_y)\n",
    "        plt.plot(z, fit_z, '-o')\n",
    "        plt.plot(y, fit_y, '-o')\n",
    "        plt.show()"
   ]
  },
  {
   "cell_type": "markdown",
   "metadata": {},
   "source": [
    "# Maximize the entropy $H(X)$"
   ]
  },
  {
   "cell_type": "markdown",
   "metadata": {},
   "source": [
    "Draw 400 random samples from normal distribution with $\\mu = 1$ and $\\sigma = .2$"
   ]
  },
  {
   "cell_type": "markdown",
   "metadata": {},
   "source": [
    "Aim for maximal entropy $H(X) = H$(uniform distribution)"
   ]
  },
  {
   "cell_type": "code",
   "execution_count": 19,
   "metadata": {
    "scrolled": false
   },
   "outputs": [
    {
     "name": "stdout",
     "output_type": "stream",
     "text": [
      "Initial entropy 2.8808416495525826\n"
     ]
    },
    {
     "data": {
      "image/png": "[encoded data removed]",
      "text/plain": [
       "<Figure size 432x288 with 1 Axes>"
      ]
     },
     "metadata": {
      "needs_background": "light"
     },
     "output_type": "display_data"
    },
    {
     "name": "stdout",
     "output_type": "stream",
     "text": [
      "Maximal entropy for given X:  8.643856189774725\n"
     ]
    },
    {
     "data": {
      "image/png": "[encoded data removed]",
      "text/plain": [
       "<Figure size 432x288 with 1 Axes>"
      ]
     },
     "metadata": {
      "needs_background": "light"
     },
     "output_type": "display_data"
    },
    {
     "name": "stdout",
     "output_type": "stream",
     "text": [
      "Achieved entropy 8.643806580861233\n"
     ]
    }
   ],
   "source": [
    "_x = XNormDiscrete(1, .2, 400).random()\n",
    "_hx_max = HillClimbing(_x, 0.00005).climb_entropy()\n",
    "print('Achieved entropy', _hx_max)"
   ]
  },
  {
   "cell_type": "markdown",
   "metadata": {},
   "source": [
    "# Maximize $H(X) + \\lambda * \\mathbb{V}(X)$"
   ]
  },
  {
   "cell_type": "markdown",
   "metadata": {},
   "source": [
    "Draw 400 random samples from normal distribution with  $\\mu=1$  and  $\\sigma=.2$"
   ]
  },
  {
   "cell_type": "markdown",
   "metadata": {},
   "source": [
    "Aim for maximal entropy $H(X) = H$(uniform distribution) and 20% better $\\lambda * \\mathbb{V}(X)$"
   ]
  },
  {
   "cell_type": "code",
   "execution_count": 43,
   "metadata": {},
   "outputs": [
    {
     "name": "stdout",
     "output_type": "stream",
     "text": [
      "Initial variance 361.9755249032042\n",
      "Initial entropy 2.8808416495525826\n"
     ]
    },
    {
     "data": {
      "image/png": "[encoded data removed]",
      "text/plain": [
       "<Figure size 432x288 with 1 Axes>"
      ]
     },
     "metadata": {
      "needs_background": "light"
     },
     "output_type": "display_data"
    },
    {
     "name": "stdout",
     "output_type": "stream",
     "text": [
      "Maximal entropy for given X:  8.643856189774725\n",
      "Opt for entropy + variance:  12.987562488613175\n"
     ]
    },
    {
     "data": {
      "image/png": "[encoded data removed]",
      "text/plain": [
       "<Figure size 432x288 with 1 Axes>"
      ]
     },
     "metadata": {
      "needs_background": "light"
     },
     "output_type": "display_data"
    },
    {
     "name": "stdout",
     "output_type": "stream",
     "text": [
      "Achieved variance:  449.58276331538343\n",
      "Achieved entropy + variance:  13.0201593379701\n"
     ]
    }
   ],
   "source": [
    "_hvarx_max = HillClimbing(_x, .2).climb_entropy_variance()\n",
    "print('Achieved entropy + variance: ', _hvarx_max)"
   ]
  },
  {
   "cell_type": "markdown",
   "metadata": {},
   "source": [
    "# Minimize $\\mathbb{KL}(P(Y)||Q(Z))$"
   ]
  },
  {
   "cell_type": "markdown",
   "metadata": {},
   "source": [
    "Opt for $\\mathbb{KL}(P(Y)||Q(Z)) \\leq 0.77$"
   ]
  },
  {
   "cell_type": "code",
   "execution_count": 38,
   "metadata": {
    "scrolled": false
   },
   "outputs": [
    {
     "data": {
      "image/png": "[encoded data removed]",
      "text/plain": [
       "<Figure size 432x288 with 1 Axes>"
      ]
     },
     "metadata": {
      "needs_background": "light"
     },
     "output_type": "display_data"
    },
    {
     "name": "stdout",
     "output_type": "stream",
     "text": [
      "Minimized D_KL(P(Y), Q(Z)) 0.7636239579511297\n"
     ]
    }
   ],
   "source": [
    "_y = np.array(pd.read_csv('Y.txt', header=None)).reshape(50, )\n",
    "_kl_min = HillClimbing(_y, .77).climb_kl_div('pq')\n",
    "print('Minimized D_KL(P(Y), Q(Z))', _kl_min)"
   ]
  },
  {
   "cell_type": "markdown",
   "metadata": {},
   "source": [
    "Opt for $\\mathbb{KL}(P(Z)||Q(Y)) \\leq 2.76$"
   ]
  },
  {
   "cell_type": "code",
   "execution_count": 40,
   "metadata": {},
   "outputs": [
    {
     "data": {
      "image/png": "[encoded data removed]",
      "text/plain": [
       "<Figure size 432x288 with 1 Axes>"
      ]
     },
     "metadata": {
      "needs_background": "light"
     },
     "output_type": "display_data"
    },
    {
     "name": "stdout",
     "output_type": "stream",
     "text": [
      "Minimized D_KL(Q(Y), P(Z)) 2.7567036766022692\n"
     ]
    }
   ],
   "source": [
    "_kl_min = HillClimbing(_y, 2.78).climb_kl_div('qp')\n",
    "print('Minimized D_KL(Q(Y), P(Z))', _kl_min)"
   ]
  },
  {
   "cell_type": "markdown",
   "metadata": {},
   "source": [
    "Both $Z's$ are different, because the Kullback-Leibler divergence is not symmetrical."
   ]
  },
  {
   "cell_type": "markdown",
   "metadata": {},
   "source": [
    "Thus changing the mean to minimize $\\mathbb{KL}(P(Y)||Q(Z))$ results in a different $Z$ then the other way around."
   ]
  }
 ],
 "metadata": {
  "kernelspec": {
   "display_name": "Python 3",
   "language": "python",
   "name": "python3"
  },
  "language_info": {
   "codemirror_mode": {
    "name": "ipython",
    "version": 3
   },
   "file_extension": ".py",
   "mimetype": "text/x-python",
   "name": "python",
   "nbconvert_exporter": "python",
   "pygments_lexer": "ipython3",
   "version": "3.7.0"
  }
 },
 "nbformat": 4,
 "nbformat_minor": 2
}
