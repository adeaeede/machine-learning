{
 "cells": [
  {
   "cell_type": "code",
   "execution_count": 11,
   "metadata": {},
   "outputs": [],
   "source": [
    "import numpy as np\n",
    "import pandas as pd\n",
    "import matplotlib.pyplot as plt"
   ]
  },
  {
   "cell_type": "markdown",
   "metadata": {},
   "source": [
    "# Excercise 2. The XOR-Problem"
   ]
  },
  {
   "cell_type": "markdown",
   "metadata": {},
   "source": [
    "Let $\\hat y = \\begin{cases} \n",
    "      1 & \\textbf{w}^T*\\textbf{x} >0 \\\\\n",
    "      0 & otherwise \n",
    "   \\end{cases}$"
   ]
  },
  {
   "cell_type": "markdown",
   "metadata": {},
   "source": [
    "Let $\\textbf{w}=[-10,20,20]$\n"
   ]
  },
  {
   "cell_type": "markdown",
   "metadata": {},
   "source": [
    "Define a tuth table with all possible values for $\\textbf{x_i}$ and their predicted outcome $\\hat y$ "
   ]
  },
  {
   "cell_type": "markdown",
   "metadata": {},
   "source": [
    "|**x_i**|$x_{i0}$    | $x_{i1}$ | $x_{i2}$ | $\\hat y$ |\n",
    "|----|----|----|----|-----|\n",
    "|$x_1$| 1  | 0  | 0  | $\\hat y (x_1) = 0$   |\n",
    "|$x_2$| 1  | 0  | 1  | $\\hat y (x_2) = 1$    |\n",
    "|$x_3$| 1  | 1  | 0  | $\\hat y (x_3) = 1$    |\n",
    "|$x_4$| 1  | 1  | 1  | $\\hat y (x_4) = 1$ "
   ]
  },
  {
   "cell_type": "markdown",
   "metadata": {},
   "source": [
    "As observed, the activation funciton $\\hat y(x)$  can be used to simulate logical OR funtion."
   ]
  },
  {
   "cell_type": "markdown",
   "metadata": {},
   "source": [
    "Assume now that there exist parameters for a linear combination such that the output of $\\hat y $ is the correct result of applying XOR-Operator on the inputs."
   ]
  },
  {
   "cell_type": "markdown",
   "metadata": {},
   "source": [
    "Then there would exist a linear function that separates this data:"
   ]
  },
  {
   "cell_type": "code",
   "execution_count": 10,
   "metadata": {},
   "outputs": [
    {
     "data": {
      "image/png": "[encoded data removed]",
      "text/plain": [
       "<Figure size 432x288 with 1 Axes>"
      ]
     },
     "metadata": {
      "needs_background": "light"
     },
     "output_type": "display_data"
    }
   ],
   "source": [
    "plt.scatter([0,1],[1,0], marker='x')\n",
    "plt.scatter([0,1],[0,1], marker='o')\n",
    "plt.yticks([0,1])\n",
    "plt.xticks([0,1])\n",
    "plt.show()"
   ]
  },
  {
   "cell_type": "markdown",
   "metadata": {},
   "source": [
    "However regardless of what parameter we choose there is no linear function that could separate this data."
   ]
  },
  {
   "cell_type": "markdown",
   "metadata": {},
   "source": [
    "It follows by contradiction, that there is no such function $\\hat y$ which satisfies the assumption."
   ]
  }
 ],
 "metadata": {
  "kernelspec": {
   "display_name": "Python 3",
   "language": "python",
   "name": "python3"
  },
  "language_info": {
   "codemirror_mode": {
    "name": "ipython",
    "version": 3
   },
   "file_extension": ".py",
   "mimetype": "text/x-python",
   "name": "python",
   "nbconvert_exporter": "python",
   "pygments_lexer": "ipython3",
   "version": "3.7.0"
  }
 },
 "nbformat": 4,
 "nbformat_minor": 2
}
