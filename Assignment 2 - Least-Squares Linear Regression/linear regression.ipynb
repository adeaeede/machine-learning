{
 "cells": [
  {
   "cell_type": "code",
   "execution_count": 52,
   "metadata": {},
   "outputs": [
    {
     "name": "stdout",
     "output_type": "stream",
     "text": [
      "Accuracy  0.22521175884404585\n",
      "Predicted  -3   -2   -1    0    1    2    3    4    5    6    7    8    9   \\\n",
      "Actual                                                                       \n",
      "0            2   11   44   71  108   65   39   12    4    3    0    0    0   \n",
      "1            0    0    0    6  119   84   35   14    3    3    0    0    0   \n",
      "2            0    1    3   10   19   42   45   45   23    7    3    0    0   \n",
      "3            0    0    1    1   10   24   38   42   36   12    2    0    0   \n",
      "4            0    0    0    0    1    5   11   41   46   41   38   14    3   \n",
      "5            1    0    1    1   10   17   23   33   31   28   11    3    1   \n",
      "6            0    0    0    0    5    8   16   46   54   35    4    2    0   \n",
      "7            0    0    0    0    0    1    3   10   20   45   47   18    3   \n",
      "8            0    0    1    1    1    3    4   24   30   50   34   14    4   \n",
      "9            0    0    0    0    0    0    2    9   17   22   55   56   14   \n",
      "\n",
      "Predicted   10  \n",
      "Actual          \n",
      "0            0  \n",
      "1            0  \n",
      "2            0  \n",
      "3            0  \n",
      "4            0  \n",
      "5            0  \n",
      "6            0  \n",
      "7            0  \n",
      "8            0  \n",
      "9            2  \n"
     ]
    }
   ],
   "source": [
    "# Mustererkennung/Machine Learning WiSe 18/19\n",
    "# Assignment 2\n",
    "# Adrian Gruszczynski / Yann Salimi (alphabetical order)\n",
    "\n",
    "# Excercise 1. Implementation of Least-Squares Linear Regression\n",
    "#(a)\n",
    "import numpy as np\n",
    "import pandas as pd\n",
    "\n",
    "\n",
    "class LinearRegression:\n",
    "    def __init__(self):\n",
    "        self.coefficients = None\n",
    "        \n",
    "    def fit(self, train_X, train_y):\n",
    "        a = np.linalg.inv(np.dot(train_X.T, train_X))\n",
    "        b = np.dot(train_X.T, train_y)\n",
    "        self.coefficients = np.dot(a,b)\n",
    "        \n",
    "    def predict(self, _test_X):\n",
    "        return np.dot(_test_X, self.coefficients)\n",
    "                \n",
    "\n",
    "if __name__ == '__main__':\n",
    "    _training_data = np.array(pd.read_csv('zip.train', sep=' ', header=None), dtype=np.float32)\n",
    "    _test_data = np.array(pd.read_csv('zip.test', sep=' ', header=None), dtype=np.float32)\n",
    "\n",
    "    _train_x = _training_data[:, 1:-1]\n",
    "    _train_X = np.hstack((np.ones((_train_x.shape[0],1)), _train_x))\n",
    "    _train_y = _training_data[:, 0].astype(np.uint8)\n",
    "\n",
    "    _test_x = _test_data[:, 1:]\n",
    "    _test_X = np.hstack((np.ones((_test_x.shape[0],1)), _test_x))\n",
    "    _test_y = _test_data[:, 0].astype(np.uint8)\n",
    "    \n",
    "    _zip_classifier = LinearRegression()\n",
    "    _zip_classifier.fit(_train_X, _train_y)\n",
    "    _y_pred = np.round(_zip_classifier.predict(_test_X), decimals=0).astype(np.int8)\n",
    "    _conf_m = pd.crosstab(pd.Series(_test_y, name='Actual'),\n",
    "                      pd.Series(_y_pred, name='Predicted'))\n",
    "    _accuracy = np.sum(np.equal(_y_pred,_test_y)) / len(_test_y)\n",
    "    \n",
    "    print('Accuracy ', _accuracy)\n",
    "    print(_conf_m)\n",
    "\n",
    "#(b)\n",
    "#    Predicted labels are continous value and so they cannot be compared with the actual test values.\n",
    "#    To overcome the problem the predicted values have to be rounded and encoded as type int8.\n",
    "#(c)\n",
    "#    Linear regression predicts continous values whereas classification problems are of a discrete nature.\n",
    "#    It is advised to use logistic regression for classification problems."
   ]
  }
 ],
 "metadata": {
  "kernelspec": {
   "display_name": "Python 3",
   "language": "python",
   "name": "python3"
  },
  "language_info": {
   "codemirror_mode": {
    "name": "ipython",
    "version": 3
   },
   "file_extension": ".py",
   "mimetype": "text/x-python",
   "name": "python",
   "nbconvert_exporter": "python",
   "pygments_lexer": "ipython3",
   "version": "3.7.0"
  }
 },
 "nbformat": 4,
 "nbformat_minor": 2
}
