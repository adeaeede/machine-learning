{
 "cells": [
  {
   "cell_type": "code",
   "execution_count": 1,
   "metadata": {
    "scrolled": true
   },
   "outputs": [
    {
     "name": "stdout",
     "output_type": "stream",
     "text": [
      "100.0\n",
      "k value:                 1\n",
      "correct predictions:    94\n",
      "total predictions:     100\n",
      "Accuracy:            0.940\n",
      "Error rate:          0.060\n",
      "\n",
      "Confusion matrix: \n",
      "\n",
      "     0  1   2  3  4  5  6  7  8   9\n",
      "0  26  0   0  0  0  0  0  0  0   0\n",
      "1   0  8   0  0  0  0  0  0  0   0\n",
      "2   1  0  15  1  0  0  0  0  0   0\n",
      "3   0  0   0  4  0  1  0  0  0   0\n",
      "4   0  1   0  0  4  0  0  0  0   0\n",
      "5   0  0   0  0  0  4  0  0  0   0\n",
      "6   0  0   0  0  1  0  9  0  0   0\n",
      "7   0  0   0  0  0  0  0  8  0   0\n",
      "8   0  0   0  1  0  0  0  0  5   0\n",
      "9   0  0   0  0  0  0  0  0  0  11\n"
     ]
    },
    {
     "data": {
      "text/plain": [
       "<Figure size 640x480 with 1 Axes>"
      ]
     },
     "metadata": {},
     "output_type": "display_data"
    },
    {
     "data": {
      "text/plain": [
       "<Figure size 640x480 with 1 Axes>"
      ]
     },
     "metadata": {},
     "output_type": "display_data"
    },
    {
     "name": "stdout",
     "output_type": "stream",
     "text": [
      "100.0\n",
      "k value:                 2\n",
      "correct predictions:    94\n",
      "total predictions:     100\n",
      "Accuracy:            0.940\n",
      "Error rate:          0.060\n",
      "\n",
      "Confusion matrix: \n",
      "\n",
      "     0  1   2  3  4  5  6  7  8   9\n",
      "0  26  0   0  0  0  0  0  0  0   0\n",
      "1   0  8   0  0  0  0  0  0  0   0\n",
      "2   2  0  15  0  0  0  0  0  0   0\n",
      "3   0  0   0  4  0  1  0  0  0   0\n",
      "4   0  1   0  0  4  0  0  0  0   0\n",
      "5   0  0   0  0  0  4  0  0  0   0\n",
      "6   0  0   0  0  1  0  9  0  0   0\n",
      "7   0  0   0  0  0  0  0  8  0   0\n",
      "8   0  0   0  1  0  0  0  0  5   0\n",
      "9   0  0   0  0  0  0  0  0  0  11\n"
     ]
    },
    {
     "data": {
      "text/plain": [
       "<Figure size 640x480 with 1 Axes>"
      ]
     },
     "metadata": {},
     "output_type": "display_data"
    },
    {
     "data": {
      "text/plain": [
       "<Figure size 640x480 with 1 Axes>"
      ]
     },
     "metadata": {},
     "output_type": "display_data"
    },
    {
     "name": "stdout",
     "output_type": "stream",
     "text": [
      "100.0\n",
      "k value:                 3\n",
      "correct predictions:    96\n",
      "total predictions:     100\n",
      "Accuracy:            0.960\n",
      "Error rate:          0.040\n",
      "\n",
      "Confusion matrix: \n",
      "\n",
      "     0  1   2  3  4  5  6  7  8   9\n",
      "0  26  0   0  0  0  0  0  0  0   0\n",
      "1   0  8   0  0  0  0  0  0  0   0\n",
      "2   1  0  16  0  0  0  0  0  0   0\n",
      "3   0  0   0  4  0  1  0  0  0   0\n",
      "4   0  1   0  0  4  0  0  0  0   0\n",
      "5   0  0   0  0  0  4  0  0  0   0\n",
      "6   0  0   0  0  1  0  9  0  0   0\n",
      "7   0  0   0  0  0  0  0  8  0   0\n",
      "8   0  0   0  0  0  0  0  0  6   0\n",
      "9   0  0   0  0  0  0  0  0  0  11\n"
     ]
    },
    {
     "data": {
      "text/plain": [
       "<Figure size 640x480 with 1 Axes>"
      ]
     },
     "metadata": {},
     "output_type": "display_data"
    },
    {
     "data": {
      "text/plain": [
       "<Figure size 640x480 with 1 Axes>"
      ]
     },
     "metadata": {},
     "output_type": "display_data"
    },
    {
     "name": "stdout",
     "output_type": "stream",
     "text": [
      "100.0\n",
      "k value:                 4\n",
      "correct predictions:    93\n",
      "total predictions:     100\n",
      "Accuracy:            0.930\n",
      "Error rate:          0.070\n",
      "\n",
      "Confusion matrix: \n",
      "\n",
      "     0  1   2  3  4  5  6  7  8   9\n",
      "0  26  0   0  0  0  0  0  0  0   0\n",
      "1   0  8   0  0  0  0  0  0  0   0\n",
      "2   1  0  16  0  0  0  0  0  0   0\n",
      "3   0  0   0  4  0  1  0  0  0   0\n",
      "4   0  1   0  0  4  0  0  0  0   0\n",
      "5   0  0   0  1  0  3  0  0  0   0\n",
      "6   1  0   1  0  0  0  8  0  0   0\n",
      "7   0  0   0  0  0  0  0  8  0   0\n",
      "8   0  0   0  1  0  0  0  0  5   0\n",
      "9   0  0   0  0  0  0  0  0  0  11\n"
     ]
    },
    {
     "data": {
      "text/plain": [
       "<Figure size 640x480 with 1 Axes>"
      ]
     },
     "metadata": {},
     "output_type": "display_data"
    },
    {
     "data": {
      "text/plain": [
       "<Figure size 640x480 with 1 Axes>"
      ]
     },
     "metadata": {},
     "output_type": "display_data"
    },
    {
     "name": "stdout",
     "output_type": "stream",
     "text": [
      "100.0\n",
      "k value:                 5\n",
      "correct predictions:    94\n",
      "total predictions:     100\n",
      "Accuracy:            0.940\n",
      "Error rate:          0.060\n",
      "\n",
      "Confusion matrix: \n",
      "\n",
      "     0  1   2  3  4  5  6  7  8   9\n",
      "0  26  0   0  0  0  0  0  0  0   0\n",
      "1   0  8   0  0  0  0  0  0  0   0\n",
      "2   1  0  16  0  0  0  0  0  0   0\n",
      "3   0  0   0  4  0  1  0  0  0   0\n",
      "4   0  1   0  0  4  0  0  0  0   0\n",
      "5   0  0   0  0  0  4  0  0  0   0\n",
      "6   0  0   1  0  0  0  9  0  0   0\n",
      "7   0  0   0  0  0  0  0  8  0   0\n",
      "8   0  0   0  1  0  1  0  0  4   0\n",
      "9   0  0   0  0  0  0  0  0  0  11\n"
     ]
    },
    {
     "data": {
      "text/plain": [
       "<Figure size 640x480 with 1 Axes>"
      ]
     },
     "metadata": {},
     "output_type": "display_data"
    },
    {
     "data": {
      "text/plain": [
       "<Figure size 640x480 with 1 Axes>"
      ]
     },
     "metadata": {},
     "output_type": "display_data"
    },
    {
     "name": "stdout",
     "output_type": "stream",
     "text": [
      "100.0\n",
      "k value:                 6\n",
      "correct predictions:    95\n",
      "total predictions:     100\n",
      "Accuracy:            0.950\n",
      "Error rate:          0.050\n",
      "\n",
      "Confusion matrix: \n",
      "\n",
      "     0  1   2  3  4  5  6  7  8   9\n",
      "0  26  0   0  0  0  0  0  0  0   0\n",
      "1   0  8   0  0  0  0  0  0  0   0\n",
      "2   1  0  16  0  0  0  0  0  0   0\n",
      "3   0  0   0  4  0  1  0  0  0   0\n",
      "4   0  1   0  0  4  0  0  0  0   0\n",
      "5   0  0   0  0  0  4  0  0  0   0\n",
      "6   0  0   1  0  0  0  9  0  0   0\n",
      "7   0  0   0  0  0  0  0  8  0   0\n",
      "8   0  0   0  1  0  0  0  0  5   0\n",
      "9   0  0   0  0  0  0  0  0  0  11\n"
     ]
    },
    {
     "data": {
      "text/plain": [
       "<Figure size 640x480 with 1 Axes>"
      ]
     },
     "metadata": {},
     "output_type": "display_data"
    },
    {
     "data": {
      "text/plain": [
       "<Figure size 640x480 with 1 Axes>"
      ]
     },
     "metadata": {},
     "output_type": "display_data"
    },
    {
     "name": "stdout",
     "output_type": "stream",
     "text": [
      "100.0\n",
      "k value:                 7\n",
      "correct predictions:    95\n",
      "total predictions:     100\n",
      "Accuracy:            0.950\n",
      "Error rate:          0.050\n",
      "\n",
      "Confusion matrix: \n",
      "\n",
      "     0  1   2  3  4  5  6  7  8   9\n",
      "0  26  0   0  0  0  0  0  0  0   0\n",
      "1   0  8   0  0  0  0  0  0  0   0\n",
      "2   1  0  16  0  0  0  0  0  0   0\n",
      "3   0  0   0  4  0  1  0  0  0   0\n",
      "4   0  1   0  0  4  0  0  0  0   0\n",
      "5   0  0   0  0  0  4  0  0  0   0\n",
      "6   0  0   1  0  0  0  9  0  0   0\n",
      "7   0  0   0  0  0  0  0  8  0   0\n",
      "8   0  0   0  1  0  0  0  0  5   0\n",
      "9   0  0   0  0  0  0  0  0  0  11\n"
     ]
    },
    {
     "data": {
      "text/plain": [
       "<Figure size 640x480 with 1 Axes>"
      ]
     },
     "metadata": {},
     "output_type": "display_data"
    },
    {
     "data": {
      "text/plain": [
       "<Figure size 640x480 with 1 Axes>"
      ]
     },
     "metadata": {},
     "output_type": "display_data"
    },
    {
     "name": "stdout",
     "output_type": "stream",
     "text": [
      "100.0\n",
      "k value:                 8\n",
      "correct predictions:    95\n",
      "total predictions:     100\n",
      "Accuracy:            0.950\n",
      "Error rate:          0.050\n",
      "\n",
      "Confusion matrix: \n",
      "\n",
      "     0  1   2  3  4  5  6  7  8   9\n",
      "0  26  0   0  0  0  0  0  0  0   0\n",
      "1   0  8   0  0  0  0  0  0  0   0\n",
      "2   1  0  16  0  0  0  0  0  0   0\n",
      "3   0  0   0  4  0  1  0  0  0   0\n",
      "4   0  1   0  0  4  0  0  0  0   0\n",
      "5   0  0   0  0  0  4  0  0  0   0\n",
      "6   0  0   1  0  0  0  9  0  0   0\n",
      "7   0  0   0  0  0  0  0  8  0   0\n",
      "8   0  0   0  1  0  0  0  0  5   0\n",
      "9   0  0   0  0  0  0  0  0  0  11\n"
     ]
    },
    {
     "data": {
      "text/plain": [
       "<Figure size 640x480 with 1 Axes>"
      ]
     },
     "metadata": {},
     "output_type": "display_data"
    },
    {
     "data": {
      "text/plain": [
       "<Figure size 640x480 with 1 Axes>"
      ]
     },
     "metadata": {},
     "output_type": "display_data"
    },
    {
     "name": "stdout",
     "output_type": "stream",
     "text": [
      "100.0\n",
      "k value:                 9\n",
      "correct predictions:    93\n",
      "total predictions:     100\n",
      "Accuracy:            0.930\n",
      "Error rate:          0.070\n",
      "\n",
      "Confusion matrix: \n",
      "\n",
      "     0  1   2  3  4  5  6  7  8   9\n",
      "0  26  0   0  0  0  0  0  0  0   0\n",
      "1   0  8   0  0  0  0  0  0  0   0\n",
      "2   1  0  15  1  0  0  0  0  0   0\n",
      "3   0  0   0  4  0  1  0  0  0   0\n",
      "4   0  1   0  0  4  0  0  0  0   0\n",
      "5   0  0   0  0  0  4  0  0  0   0\n",
      "6   0  0   1  0  0  0  9  0  0   0\n",
      "7   0  0   0  0  0  0  0  8  0   0\n",
      "8   0  0   0  1  0  1  0  0  4   0\n",
      "9   0  0   0  0  0  0  0  0  0  11\n"
     ]
    },
    {
     "data": {
      "text/plain": [
       "<Figure size 640x480 with 1 Axes>"
      ]
     },
     "metadata": {},
     "output_type": "display_data"
    },
    {
     "data": {
      "text/plain": [
       "<Figure size 640x480 with 1 Axes>"
      ]
     },
     "metadata": {},
     "output_type": "display_data"
    },
    {
     "name": "stdout",
     "output_type": "stream",
     "text": [
      "[0.   0.06 0.06 0.04 0.07 0.06 0.05 0.05 0.05 0.07]\n"
     ]
    }
   ],
   "source": [
    "import numpy as np\n",
    "import pandas as pd\n",
    "import matplotlib.pyplot as plt\n",
    "\n",
    "\n",
    "def knn(k, training_data, test_data):\n",
    "    conf_m = np.zeros((10,10))\n",
    "    negatives = []\n",
    "    # For each sample from test data\n",
    "    for row in test_data:    \n",
    "        # Compute the distance between the sample and training data\n",
    "        distances = np.sqrt(np.sum(np.square(training_data[0:,1:] - row[1:]), axis=1))\n",
    "        # Find k nearest neighbours\n",
    "        ind = np.argpartition(distances, k)[:k]\n",
    "        nearest_labels = training_data[ind][:,0].flatten()\n",
    "        y_pred = np.argmax(np.bincount(labels.astype(np.int8)))\n",
    "        # Store false predictions\n",
    "        if label != row[0]:\n",
    "            true_neg = training_data[ind[0]]\n",
    "            negatives.append([true_neg, row])\n",
    "        # Update confusion matrix\n",
    "        conf_m[int(row[0]), label] +=1\n",
    "            \n",
    "        \n",
    "    #measurements[k] = compute_error(conf_m,k)\n",
    "    # Choose a random true negative and show\n",
    "    display_rand_true_neg(negatives)\n",
    "\n",
    "    return y\n",
    "\n",
    "def print_measurements(k, num_correct, num_total, accuracy, error_rate, conf_m):\n",
    "    df = pd.DataFrame(conf_m, index=[x for x in range(0,10)], columns=[x for x in range(0,10)], dtype=np.uint16)\n",
    "    print('%-20s %5d' % ('k value:', k))\n",
    "    print('%-20s %5d' % ('correct predictions:', num_correct))\n",
    "    print('%-20s %5d' % ('total predictions:', num_total))\n",
    "    print('%-20s %02.3f' %  ('Accuracy: ', accuracy))\n",
    "    print('%-20s %02.3f\\n' %  ('Error rate:', error_rate))\n",
    "    print('Confusion matrix: \\n\\n',df)\n",
    "    \n",
    "\n",
    "def display_rand_true_neg(negatives):\n",
    "    rand = np.random.randint(0, len(negatives))\n",
    "    plt.imshow(negatives[rand][0][1:].reshape(16,16), cmap='gray')\n",
    "    plt.suptitle('Predicted', fontsize=20)\n",
    "    plt.show()\n",
    "    plt.imshow(negatives[rand][1].flatten()[1:].reshape(16,16), cmap='gray')\n",
    "    plt.suptitle('Actual', fontsize=20)\n",
    "    plt.show()\n",
    "        \n",
    "        \n",
    "def compute_error(conf_m, k):\n",
    "    # Sum across the diagonal \n",
    "    num_correct = np.sum(np.diag(conf_m))\n",
    "    # Sum columns\n",
    "    num_total = np.sum(np.sum(conf_m, axis=0))\n",
    "    accuracy = num_correct / num_total\n",
    "    error_rate =  round((1 - accuracy),3)\n",
    "    print_measurements(k, num_correct, num_total, accuracy, error_rate, conf_m)\n",
    "    \n",
    "    return error_rate\n",
    "          \n",
    "   \n",
    "if __name__ == '__main__':\n",
    "    # Load the training and test dataset\n",
    "    df = pd.read_csv('zip.train', sep=' ', header=None, usecols=list(range(0, 257)))\n",
    "    training_data = np.array(df, dtype=np.float32) \n",
    "    df = pd.read_csv('zip.test', sep=' ', header=None, usecols=list(range(0, 257)))\n",
    "    test_data = np.array(df, dtype=np.float32)[0:100] #reduce amount of test data\n",
    "    measurements = np.zeros(10)\n",
    "   \n",
    "    # Specify k\n",
    "    for k in range(1,10):\n",
    "        _y_pred = knn(k, training_data, test_data)\n",
    "        _accuracy = np.sum(np.equal(_y_pred, _test_y[:_n_test_samples])) / len(_y_pred)\n",
    "        \n",
    "    print(measurements)\n",
    "    plt.plot(measurements)\n",
    "    plt.xlabel('k value')\n",
    "    plt.ylabel('Error rate')\n",
    "    \n",
    "  "
   ]
  },
  {
   "cell_type": "code",
   "execution_count": null,
   "metadata": {},
   "outputs": [],
   "source": [
    "%%latex\n",
    "knn \n",
    "cons:\n",
    "    - classifying one sample requires going throgh whole test data set\n",
    "    - potentially huge data set needs to be stored\n",
    "    - long testing phase\n",
    "    - degraded accuracy for higher dimensions since there's little differene betwenn nearest and farthest neighbour\n",
    "pros:\n",
    "    - easy to implement\n",
    "    - no training required\n",
    "    "
   ]
  }
 ],
 "metadata": {
  "kernelspec": {
   "display_name": "Python 3",
   "language": "python",
   "name": "python3"
  },
  "language_info": {
   "codemirror_mode": {
    "name": "ipython",
    "version": 3
   },
   "file_extension": ".py",
   "mimetype": "text/x-python",
   "name": "python",
   "nbconvert_exporter": "python",
   "pygments_lexer": "ipython3",
   "version": "3.7.0"
  }
 },
 "nbformat": 4,
 "nbformat_minor": 2
}
