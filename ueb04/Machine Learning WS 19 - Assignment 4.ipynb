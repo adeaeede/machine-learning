{
 "cells": [
  {
   "cell_type": "markdown",
   "metadata": {},
   "source": [
    "Adrian Gruszczynski / Yann Salimi"
   ]
  },
  {
   "cell_type": "code",
   "execution_count": 1,
   "metadata": {},
   "outputs": [],
   "source": [
    "import os\n",
    "import re\n",
    "import numpy as np\n",
    "import pandas as pd\n",
    "from matplotlib import pyplot as plt\n",
    "%matplotlib inline"
   ]
  },
  {
   "cell_type": "markdown",
   "metadata": {},
   "source": [
    "# Implementation of PCA"
   ]
  },
  {
   "cell_type": "code",
   "execution_count": 2,
   "metadata": {},
   "outputs": [],
   "source": [
    "class PCA:\n",
    "    \"\"\"Principal component analysis (PCA).\n",
    "\n",
    "    :argument n_components: Number of principal components.\n",
    "    \"\"\"\n",
    "\n",
    "    def __init__(self, n_components: int):\n",
    "        self.n_components = n_components\n",
    "\n",
    "    def reduce(self, x):\n",
    "        \"\"\"Reduce x to `self.n_components` dimensions.\n",
    "\n",
    "        :param x: array-like matrices of shape (M, N)\n",
    "        :return: numpy.array of shape(M, `self.n_components`)\n",
    "        \"\"\"\n",
    "        U, S, V = self._decompose(x)\n",
    "        return U[:, :self.n_components] * S[:self.n_components]\n",
    "\n",
    "    def components(self, x):\n",
    "        \"\"\"Get first `self.n_components` components ordered by variance.\n",
    "\n",
    "        :param x: array-like matrices of shape (M, N)\n",
    "        :return: numpy.array of shape (`self.n_components`, N)\n",
    "        \"\"\"\n",
    "        _U, _S, V = self._decompose(x)\n",
    "        return V[:self.n_components]\n",
    "\n",
    "    def _decompose(self, x):\n",
    "        \"\"\"Singular value decomposition of normalized X.\n",
    "\n",
    "        :param x: array-like matrices of shape (M, N)\n",
    "        :return:\n",
    "            U : numpy.array of shape (M, min(M, N)), unitary matrices\n",
    "            S : numpy.array of shape (min(M, N)), singular values\n",
    "            V : numpy.array of shape (min(M, N), N), unitary matrices\n",
    "        \"\"\"\n",
    "        return np.linalg.svd(self._normalize(x), full_matrices=False)\n",
    "\n",
    "    @staticmethod\n",
    "    def _normalize(x):\n",
    "        \"\"\"Normalizes x by centering around the mean.\n",
    "\n",
    "        :param x: array-like matrices of shape (M, N)\n",
    "        :return: numpy.array of shape (M, N)\n",
    "        \"\"\"\n",
    "        return x - np.mean(x, axis=0)"
   ]
  },
  {
   "cell_type": "markdown",
   "metadata": {},
   "source": [
    "## Reduce the \"ZIP-code\"-dataset to two dimensions and plot the point cloud of each class"
   ]
  },
  {
   "cell_type": "code",
   "execution_count": 3,
   "metadata": {},
   "outputs": [],
   "source": [
    "train = np.loadtxt('zip.train')\n",
    "train_labels, train_features = train[:, 0].astype(int), train[:, 1:]"
   ]
  },
  {
   "cell_type": "code",
   "execution_count": 4,
   "metadata": {},
   "outputs": [
    {
     "name": "stdout",
     "output_type": "stream",
     "text": [
      "Shape before reducing: (7291, 256)\n",
      "Shape after reducing:  (7291, 2)\n"
     ]
    }
   ],
   "source": [
    "pca = PCA(2)\n",
    "reduced = pca.reduce(train_features)\n",
    "print('Shape before reducing: {}'.format(train_features.shape))\n",
    "print('Shape after reducing:  {}'.format(reduced.shape))"
   ]
  },
  {
   "cell_type": "code",
   "execution_count": 5,
   "metadata": {},
   "outputs": [
    {
     "data": {
      "image/png": "[encoded data removed]",
      "text/plain": [
       "<matplotlib.figure.Figure at 0x7fbd084d69b0>"
      ]
     },
     "metadata": {},
     "output_type": "display_data"
    }
   ],
   "source": [
    "fig, axs = plt.subplots(2, 5, sharex='all', sharey='all')\n",
    "for i, ax in enumerate(axs.flat):\n",
    "    x = np.array([p for p, l in zip(reduced, train_labels) if l == i])\n",
    "    ax.set_title('#{}'.format(i))\n",
    "    ax.scatter(x[:, 0], x[:, 1])"
   ]
  },
  {
   "cell_type": "markdown",
   "metadata": {},
   "source": [
    "## Try one of the previously implemented classifiers (k-NN or Least Squares) on the two-dimensional dataset"
   ]
  },
  {
   "cell_type": "code",
   "execution_count": 6,
   "metadata": {},
   "outputs": [],
   "source": [
    "class NearestNeighbors:\n",
    "    def __init__(self, train_labels: np.array, train_features: np.array, k_neighbors: int):\n",
    "        self.train_labels = train_labels\n",
    "        self.train_features = train_features\n",
    "        self.k_neighbors = k_neighbors\n",
    "\n",
    "    def fit(self, features):\n",
    "        return np.argmax(sum([self.base(self.train_labels[y]) for y in self._nearest_neighbors(features)]))\n",
    "\n",
    "    def _nearest_neighbors(self, f):\n",
    "        return np.argpartition([self.dist(tf, f) for tf in self.train_features], self.k_neighbors)[:self.k_neighbors]\n",
    "\n",
    "    @staticmethod\n",
    "    def base(j):\n",
    "        return np.eye(1, 10, j)\n",
    "\n",
    "    @staticmethod\n",
    "    def dist(a, b):\n",
    "        return np.linalg.norm(a - b)"
   ]
  },
  {
   "cell_type": "code",
   "execution_count": 7,
   "metadata": {},
   "outputs": [],
   "source": [
    "class Assessment:\n",
    "    def __init__(self, correct, predicted):\n",
    "        self.correct = correct\n",
    "        self.predicted = predicted\n",
    "        self.map = {v: k for k, v in enumerate(sorted(set().union(correct, predicted)))}\n",
    "\n",
    "    def confusion_matrix(self):\n",
    "        c = np.zeros(2 * [len(self.map)], dtype=int)\n",
    "        for correct, predicted in zip(self.correct, self.predicted):\n",
    "            c[self.map[correct], self.map[predicted]] += 1\n",
    "        return c\n",
    "\n",
    "    def accuracy(self):\n",
    "        return np.mean(self.correct == self.predicted)"
   ]
  },
  {
   "cell_type": "code",
   "execution_count": 8,
   "metadata": {},
   "outputs": [],
   "source": [
    "test = np.loadtxt('zip.test')\n",
    "test_labels, test_features = test[:, 0].astype(int), test[:, 1:]"
   ]
  },
  {
   "cell_type": "markdown",
   "metadata": {},
   "source": [
    "With the full dimensionality and 3-NN:"
   ]
  },
  {
   "cell_type": "code",
   "execution_count": 9,
   "metadata": {},
   "outputs": [
    {
     "name": "stdout",
     "output_type": "stream",
     "text": [
      "confusion matrix:\n",
      "[[355   0   3   0   0   0   0   0   0   1]\n",
      " [  0 258   0   0   3   0   2   1   0   0]\n",
      " [  8   0 183   1   1   0   0   2   3   0]\n",
      " [  3   0   2 153   0   6   0   1   0   1]\n",
      " [  0   2   0   0 183   2   2   2   1   8]\n",
      " [  5   0   3   3   0 144   0   0   1   4]\n",
      " [  3   1   1   0   2   0 163   0   0   0]\n",
      " [  0   1   1   1   4   0   0 138   1   1]\n",
      " [  4   0   3   4   0   1   0   1 151   2]\n",
      " [  2   0   0   0   3   0   0   4   0 168]]\n",
      "\n",
      "accuracy:\n",
      "0.9446935724962631\n"
     ]
    }
   ],
   "source": [
    "nn = NearestNeighbors(train_labels, train_features, 3)\n",
    "predicted = [nn.fit(f) for f in test_features]\n",
    "assess = Assessment(test_labels, predicted)\n",
    "print('confusion matrix:\\n{}\\n'.format(assess.confusion_matrix()))\n",
    "print('accuracy:\\n{}'.format(assess.accuracy()))"
   ]
  },
  {
   "cell_type": "markdown",
   "metadata": {},
   "source": [
    "Reduced to 2d by PCA and 3-NN:"
   ]
  },
  {
   "cell_type": "code",
   "execution_count": 10,
   "metadata": {},
   "outputs": [
    {
     "name": "stdout",
     "output_type": "stream",
     "text": [
      "confusion matrix:\n",
      "[[  2 221  33   6  41   3   8  23  13   9]\n",
      " [244   0   0   1   2   2  15   0   0   0]\n",
      " [ 31   2  62  26  27  15  15   3   9   8]\n",
      " [ 13   1  40  32  31   4   0  17  17  11]\n",
      " [ 28   1  34  68  31  12   3   8   4  11]\n",
      " [ 11  15  46  15  27   8  11   5  14   8]\n",
      " [ 17  13  33   3   8  10  81   0   4   1]\n",
      " [  7   0  10  47  22   1   0  17   5  38]\n",
      " [ 30   1  37  32  20  12   1  12  13   8]\n",
      " [ 17   0  21  60  27   5   0  11   9  27]]\n",
      "\n",
      "accuracy:\n",
      "0.13602391629297458\n"
     ]
    }
   ],
   "source": [
    "train_reduced = pca.reduce(train_features)\n",
    "test_reduced = pca.reduce(test_features)\n",
    "nn_reduced = NearestNeighbors(train_labels, train_reduced, 3)\n",
    "predicted_reduced = [nn_reduced.fit(f) for f in test_reduced]\n",
    "assess_reduced = Assessment(test_labels, predicted_reduced)\n",
    "print('confusion matrix:\\n{}\\n'.format(assess_reduced.confusion_matrix()))\n",
    "print('accuracy:\\n{}'.format(assess_reduced.accuracy()))"
   ]
  },
  {
   "cell_type": "markdown",
   "metadata": {},
   "source": [
    "# Eigenfaces"
   ]
  },
  {
   "cell_type": "code",
   "execution_count": 11,
   "metadata": {},
   "outputs": [],
   "source": [
    "face_files = {}\n",
    "for face_file in os.listdir('lfwcrop_grey/faces'):\n",
    "    name = re.search(r'(.+)_\\d', face_file).group(1)\n",
    "    if name in face_files.keys():\n",
    "        face_files[name].append('lfwcrop_grey/faces/' + face_file)\n",
    "    else:\n",
    "        face_files[name] = ['lfwcrop_grey/faces/' + face_file]"
   ]
  },
  {
   "cell_type": "code",
   "execution_count": 12,
   "metadata": {},
   "outputs": [],
   "source": [
    "faces = [plt.imread(f) for name, files in face_files.items() for f in files]\n",
    "faces_flat = np.array([np.array(f).flatten() for f in faces])"
   ]
  },
  {
   "cell_type": "code",
   "execution_count": 13,
   "metadata": {},
   "outputs": [],
   "source": [
    "assert len(set(len(f) for f in faces_flat)) == 1"
   ]
  },
  {
   "cell_type": "code",
   "execution_count": 14,
   "metadata": {},
   "outputs": [],
   "source": [
    "pca = PCA(10)\n",
    "components = pca.components(faces_flat)"
   ]
  },
  {
   "cell_type": "code",
   "execution_count": 15,
   "metadata": {},
   "outputs": [
    {
     "data": {
      "image/png": "[encoded data removed]",
      "text/plain": [
       "<matplotlib.figure.Figure at 0x7fbd081f38d0>"
      ]
     },
     "metadata": {},
     "output_type": "display_data"
    }
   ],
   "source": [
    "fig, axs = plt.subplots(2, 5, subplot_kw={'xticks': [], 'yticks': []})\n",
    "for i, ax in enumerate(axs.flat):\n",
    "    ax.imshow(components[i].reshape(64, 64), cmap='Greys')"
   ]
  }
 ],
 "metadata": {
  "kernelspec": {
   "display_name": "Python 3",
   "language": "python",
   "name": "python3"
  },
  "language_info": {
   "codemirror_mode": {
    "name": "ipython",
    "version": 3
   },
   "file_extension": ".py",
   "mimetype": "text/x-python",
   "name": "python",
   "nbconvert_exporter": "python",
   "pygments_lexer": "ipython3",
   "version": "3.7.0"
  }
 },
 "nbformat": 4,
 "nbformat_minor": 2
}
