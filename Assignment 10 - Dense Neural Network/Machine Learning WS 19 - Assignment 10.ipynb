{
 "cells": [
  {
   "cell_type": "markdown",
   "metadata": {},
   "source": [
    "Adrian Gruszczynski / Yann Salimi"
   ]
  },
  {
   "cell_type": "code",
   "execution_count": 1,
   "metadata": {},
   "outputs": [],
   "source": [
    "import numpy as np\n",
    "import matplotlib.pyplot as plt"
   ]
  },
  {
   "cell_type": "code",
   "execution_count": 17,
   "metadata": {},
   "outputs": [],
   "source": [
    "class DNN:\n",
    "    def __init__(self, nn_in, nn_hidden, nn_out, n_layers, alpha):\n",
    "        self.nn_in = nn_in\n",
    "        self.nn_hidden = nn_hidden\n",
    "        self.nn_out = nn_out\n",
    "        self.alpha = alpha\n",
    "        self.n_layers = n_layers\n",
    "        self.W = None   # weights\n",
    "        self.B = None   # biases\n",
    "\n",
    "    @staticmethod\n",
    "    def softmax(x):\n",
    "        exps = np.exp(x - np.max(x))\n",
    "        return exps / np.sum(exps)\n",
    "\n",
    "    @staticmethod\n",
    "    def relu(x):\n",
    "        return x * (x > 0)\n",
    "\n",
    "    @staticmethod\n",
    "    def relu_derivative(z):\n",
    "        return np.greater(z, 0).astype(int)\n",
    "    \n",
    "    def init_weights(self):\n",
    "        W = []\n",
    "        B = []\n",
    "        nn_in = self.nn_in\n",
    "        nn_hidden = self.nn_hidden\n",
    "        nn_out = self.nn_out\n",
    "        for i in range(self.n_layers):\n",
    "            W.append(np.random.normal(0, .001, size=(nn_in, nn_hidden)))\n",
    "            B.append(np.zeros((1, nn_hidden)))\n",
    "            nn_in = nn_hidden\n",
    "        W.append(np.random.normal(0, .001, size=(nn_in, nn_out)))\n",
    "        B.append(np.zeros((1, nn_out)))\n",
    "        self.W = np.array(W)\n",
    "        self.B = B\n",
    "\n",
    "    def feed_forward(self, X):\n",
    "        A, Z = [], []\n",
    "        A.append(X)\n",
    "        for j in range(self.n_layers):\n",
    "            Z.append(A[j] @ self.W[j] + self.B[j])\n",
    "            A.append(self.relu(Z[j]))\n",
    "        Z.append(A[-1] @ self.W[-1] + self.B[-1])\n",
    "        return A, Z\n",
    "\n",
    "    def feed_backward(self, A, delta):\n",
    "        D, B = [], []\n",
    "        for j in range(len(self.W)):\n",
    "            a = A[-1 - j]\n",
    "            dW = a.T @ delta\n",
    "            dB = np.sum(delta, axis=0)\n",
    "            D.append(dW)\n",
    "            B.append(dB)\n",
    "            delta = delta @ self.W[-1 - j].T * self.relu_derivative(a)\n",
    "        return D, B\n",
    "    \n",
    "    def update_weights(self, D, B):\n",
    "        for j in range(len(self.W)):\n",
    "            self.W[j] += - self.alpha * np.array(D[-1 - j])\n",
    "            self.B[j] += - self.alpha * np.array(B[-1 - j])\n",
    "\n",
    "    def fit(self, X, y, n_epochs):\n",
    "        fig, (ax1, ax2) = plt.subplots(2, 1)\n",
    "        for i in range(n_epochs):\n",
    "            A, Z = self.feed_forward(X)\n",
    "            probs = self.softmax(Z[-1])\n",
    "            delta = self.delta_cross_entropy(probs, y)\n",
    "            D, B = self.feed_backward(A, delta)\n",
    "            self.update_weights(D, B)\n",
    "            loss = self.cross_entropy(Z[-1], y)\n",
    "            y_pred = np.argmax(probs, axis=1)\n",
    "            accuracy = 100 * accuracy_score(y, y_pred)\n",
    "            plot(i, loss, accuracy, ax1, ax2)\n",
    "        plt.show()\n",
    "\n",
    "    def predict(self, x):\n",
    "        A, Z = self.feed_forward(x)\n",
    "        probs = self.softmax(Z[-1])\n",
    "        return np.argmax(probs, axis=1)\n",
    "    \n",
    "    def cross_entropy(self, X, y):\n",
    "        m = y.shape[0]\n",
    "        p = self.softmax(X)\n",
    "        log_likelihood = -np.log(p[range(m), y])\n",
    "        loss = np.sum(log_likelihood) / m\n",
    "        return loss\n",
    "\n",
    "    def delta_cross_entropy(self, X, y):\n",
    "        m = y.shape[0]\n",
    "        grad = self.softmax(X)\n",
    "        grad[range(m), y] -= 1\n",
    "        grad = grad / m\n",
    "        return grad\n",
    "\n",
    "def plot(i, x, y, ax1, ax2):\n",
    "    ax1.set_ylabel('Loss')\n",
    "    ax1.set_xlabel('No. iterations')\n",
    "    ax2.set_ylabel('Train accuracy')\n",
    "    ax2.set_xlabel('No. iterations')\n",
    "    ax1.scatter(i, x, c='b')\n",
    "    ax2.scatter(i, y, c='y')\n",
    "\n",
    "\n",
    "def accuracy_score(y_true, y_pred):\n",
    "    if y_true.shape != y_pred.shape:\n",
    "        raise ValueError('array shapes do not match')\n",
    "    return np.sum(np.equal(y_true, y_pred)) / len(y_true)"
   ]
  },
  {
   "cell_type": "code",
   "execution_count": 7,
   "metadata": {},
   "outputs": [],
   "source": [
    "train = np.loadtxt('zip.train')\n",
    "test = np.loadtxt('zip.test')\n",
    "\n",
    "X_train = train[:, 1:]\n",
    "y_train = train[:, 0].astype(np.int8)\n",
    "\n",
    "X_val = test[:, 1:]\n",
    "y_val = test[:, 0]"
   ]
  },
  {
   "cell_type": "markdown",
   "metadata": {},
   "source": [
    "## Vary the number of hidden layers and neurons to optimize the accuracy"
   ]
  },
  {
   "cell_type": "code",
   "execution_count": 19,
   "metadata": {},
   "outputs": [
    {
     "data": {
      "image/png": "[encoded data removed]",
      "text/plain": [
       "<Figure size 432x288 with 2 Axes>"
      ]
     },
     "metadata": {
      "needs_background": "light"
     },
     "output_type": "display_data"
    }
   ],
   "source": [
    "dnn = DNN(X_train.shape[1], 100, 10, 1, .001)\n",
    "\n",
    "dnn.init_weights()\n",
    "dnn.fit(X_train, y_train, 1000)"
   ]
  },
  {
   "cell_type": "code",
   "execution_count": 21,
   "metadata": {},
   "outputs": [
    {
     "name": "stdout",
     "output_type": "stream",
     "text": [
      "val accuracy: 30.24%\n"
     ]
    }
   ],
   "source": [
    "y_pred = np.empty(y_val.shape)\n",
    "for i in range(len(X_val)):\n",
    "    y_pred[i] = dnn.predict(X_val[i])\n",
    "\n",
    "accuracy = 100 * accuracy_score(y_val, y_pred)\n",
    "print('val accuracy: %.2f%%' % accuracy)"
   ]
  },
  {
   "cell_type": "markdown",
   "metadata": {},
   "source": [
    "We achived best results with 100 hidden units and 1 hidden layer so far. Apparently varying the number of hidden layers causes the gradient to dissapear. An other possible cause for that would be an incorrect gradient update. Unfortunately we weren't able to find the cause before the deadline."
   ]
  },
  {
   "cell_type": "markdown",
   "metadata": {},
   "source": [
    "## Plot some of the numbers that are still not classified correctly."
   ]
  },
  {
   "cell_type": "code",
   "execution_count": 25,
   "metadata": {},
   "outputs": [
    {
     "data": {
      "text/plain": [
       "<matplotlib.image.AxesImage at 0x1150ca438>"
      ]
     },
     "execution_count": 25,
     "metadata": {},
     "output_type": "execute_result"
    },
    {
     "data": {
      "image/png": "[encoded data removed]",
      "text/plain": [
       "<Figure size 432x288 with 1 Axes>"
      ]
     },
     "metadata": {
      "needs_background": "light"
     },
     "output_type": "display_data"
    }
   ],
   "source": [
    "idx = np.not_equal(y_pred, y_val)\n",
    "true_neg = X_val[idx]\n",
    "\n",
    "plt.imshow(true_neg[np.random.randint(0,true_neg.shape[0])].reshape(16,16), cmap='gray')\n"
   ]
  },
  {
   "cell_type": "code",
   "execution_count": 26,
   "metadata": {},
   "outputs": [
    {
     "data": {
      "text/plain": [
       "<matplotlib.image.AxesImage at 0x10ce50b00>"
      ]
     },
     "execution_count": 26,
     "metadata": {},
     "output_type": "execute_result"
    },
    {
     "data": {
      "image/png": "[encoded data removed]",
      "text/plain": [
       "<Figure size 432x288 with 1 Axes>"
      ]
     },
     "metadata": {
      "needs_background": "light"
     },
     "output_type": "display_data"
    }
   ],
   "source": [
    "plt.imshow(true_neg[np.random.randint(0,true_neg.shape[0])].reshape(16,16), cmap='gray')"
   ]
  },
  {
   "cell_type": "code",
   "execution_count": 27,
   "metadata": {},
   "outputs": [
    {
     "data": {
      "text/plain": [
       "<matplotlib.image.AxesImage at 0x10cc70518>"
      ]
     },
     "execution_count": 27,
     "metadata": {},
     "output_type": "execute_result"
    },
    {
     "data": {
      "image/png": "[encoded data removed]",
      "text/plain": [
       "<Figure size 432x288 with 1 Axes>"
      ]
     },
     "metadata": {
      "needs_background": "light"
     },
     "output_type": "display_data"
    }
   ],
   "source": [
    "plt.imshow(true_neg[np.random.randint(0,true_neg.shape[0])].reshape(16,16), cmap='gray')"
   ]
  },
  {
   "cell_type": "code",
   "execution_count": null,
   "metadata": {},
   "outputs": [],
   "source": []
  }
 ],
 "metadata": {
  "kernelspec": {
   "display_name": "Python 3",
   "language": "python",
   "name": "python3"
  },
  "language_info": {
   "codemirror_mode": {
    "name": "ipython",
    "version": 3
   },
   "file_extension": ".py",
   "mimetype": "text/x-python",
   "name": "python",
   "nbconvert_exporter": "python",
   "pygments_lexer": "ipython3",
   "version": "3.7.2"
  }
 },
 "nbformat": 4,
 "nbformat_minor": 2
}
