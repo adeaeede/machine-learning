{
 "cells": [
  {
   "cell_type": "code",
   "execution_count": 18,
   "metadata": {},
   "outputs": [],
   "source": [
    "import torch\n",
    "from torch import nn\n",
    "from torch.optim import Adam\n",
    "from torchvision import transforms, datasets\n",
    "from torch.autograd import Variable\n",
    "from IPython import display\n",
    "import matplotlib.pyplot as plt\n",
    "import logging\n",
    "from torchvision.transforms import ToPILImage\n",
    "from IPython.display import Image, display\n",
    "import numpy as np\n",
    "import scipy.misc"
   ]
  },
  {
   "cell_type": "code",
   "execution_count": 2,
   "metadata": {},
   "outputs": [],
   "source": [
    "class Discriminator(torch.nn.Module):\n",
    "    def __init__(self):\n",
    "        super(Discriminator, self).__init__()\n",
    "        self.conv1 = nn.Sequential(\n",
    "            nn.Conv2d(\n",
    "                in_channels=3, out_channels=128, kernel_size=4,\n",
    "                stride=2, padding=1, bias=False\n",
    "            ),\n",
    "            nn.LeakyReLU(0.2, inplace=True)\n",
    "        )\n",
    "        self.conv2 = nn.Sequential(\n",
    "            nn.Conv2d(\n",
    "                in_channels=128, out_channels=256, kernel_size=4,\n",
    "                stride=2, padding=1, bias=False\n",
    "            ),\n",
    "            nn.BatchNorm2d(256),\n",
    "            nn.LeakyReLU(0.2, inplace=True)\n",
    "        )\n",
    "        self.conv3 = nn.Sequential(\n",
    "            nn.Conv2d(\n",
    "                in_channels=256, out_channels=512, kernel_size=4,\n",
    "                stride=2, padding=1, bias=False\n",
    "            ),\n",
    "            nn.BatchNorm2d(512),\n",
    "            nn.LeakyReLU(0.2, inplace=True)\n",
    "        )\n",
    "        self.conv4 = nn.Sequential(\n",
    "            nn.Conv2d(\n",
    "                in_channels=512, out_channels=1024, kernel_size=4,\n",
    "                stride=2, padding=1, bias=False\n",
    "            ),\n",
    "            nn.BatchNorm2d(1024),\n",
    "            nn.LeakyReLU(0.2, inplace=True)\n",
    "        )\n",
    "        self.out = nn.Sequential(\n",
    "            nn.Linear(1024 * 4 * 4, 1),\n",
    "            nn.Sigmoid(),\n",
    "        )\n",
    "\n",
    "    def forward(self, x):\n",
    "        x = self.conv1(x)\n",
    "        x = self.conv2(x)\n",
    "        x = self.conv3(x)\n",
    "        x = self.conv4(x)\n",
    "        x = x.view(-1, 1024 * 4 * 4)\n",
    "        x = self.out(x)\n",
    "        return x"
   ]
  },
  {
   "cell_type": "code",
   "execution_count": 3,
   "metadata": {},
   "outputs": [],
   "source": [
    "class Generator(torch.nn.Module):\n",
    "    def __init__(self):\n",
    "        super(Generator, self).__init__()\n",
    "        self.linear = torch.nn.Linear(100, 1024 * 4 * 4)\n",
    "        self.conv1 = nn.Sequential(\n",
    "            nn.ConvTranspose2d(\n",
    "                in_channels=1024, out_channels=512, kernel_size=4,\n",
    "                stride=2, padding=1, bias=False\n",
    "            ),\n",
    "            nn.BatchNorm2d(512),\n",
    "            nn.ReLU(inplace=True)\n",
    "        )\n",
    "        self.conv2 = nn.Sequential(\n",
    "            nn.ConvTranspose2d(\n",
    "                in_channels=512, out_channels=256, kernel_size=4,\n",
    "                stride=2, padding=1, bias=False\n",
    "            ),\n",
    "            nn.BatchNorm2d(256),\n",
    "            nn.ReLU(inplace=True)\n",
    "        )\n",
    "        self.conv3 = nn.Sequential(\n",
    "            nn.ConvTranspose2d(\n",
    "                in_channels=256, out_channels=128, kernel_size=4,\n",
    "                stride=2, padding=1, bias=False\n",
    "            ),\n",
    "            nn.BatchNorm2d(128),\n",
    "            nn.ReLU(inplace=True)\n",
    "        )\n",
    "        self.conv4 = nn.Sequential(\n",
    "            nn.ConvTranspose2d(\n",
    "                in_channels=128, out_channels=3, kernel_size=4,\n",
    "                stride=2, padding=1, bias=False\n",
    "            )\n",
    "        )\n",
    "        self.out = torch.nn.Tanh()\n",
    "\n",
    "    def forward(self, x):\n",
    "        x = self.linear(x)\n",
    "        x = x.view(x.shape[0], 1024, 4, 4)\n",
    "        x = self.conv1(x)\n",
    "        x = self.conv2(x)\n",
    "        x = self.conv3(x)\n",
    "        x = self.conv4(x)\n",
    "        return self.out(x)"
   ]
  },
  {
   "cell_type": "code",
   "execution_count": 4,
   "metadata": {},
   "outputs": [
    {
     "name": "stdout",
     "output_type": "stream",
     "text": [
      "Downloading https://www.cs.toronto.edu/~kriz/cifar-10-python.tar.gz to ./cifar/cifar-10-python.tar.gz\n"
     ]
    }
   ],
   "source": [
    "compose = transforms.Compose(\n",
    "    [transforms.Resize(64),\n",
    "     transforms.ToTensor(),\n",
    "     transforms.Normalize((.5, .5, .5), (.5, .5, .5))])\n",
    "data = datasets.CIFAR10(root='./cifar', train=True, transform=compose, download=True)\n",
    "batch_size = 128\n",
    "data_loader = torch.utils.data.DataLoader(data, batch_size=batch_size, shuffle=True)\n",
    "num_batches = len(data_loader)\n",
    "\n",
    "def init_weights(m):\n",
    "    classname = m.__class__.__name__\n",
    "    if classname.find('Conv') != -1 or classname.find('BatchNorm') != -1:\n",
    "        m.weight.data.normal_(0.00, 0.02)"
   ]
  },
  {
   "cell_type": "code",
   "execution_count": 5,
   "metadata": {},
   "outputs": [],
   "source": [
    "generator = Generator()\n",
    "generator.apply(init_weights)\n",
    "\n",
    "discriminator = Discriminator()\n",
    "discriminator.apply(init_weights)\n",
    "\n",
    "if torch.cuda.is_available():\n",
    "    generator.cuda()\n",
    "    discriminator.cuda()\n",
    "    \n",
    "optimizer_d = Adam(discriminator.parameters(), lr=0.0002, betas=(0.5, 0.999))\n",
    "optimizer_g = Adam(generator.parameters(), lr=0.0002, betas=(0.5, 0.999))\n",
    "\n",
    "loss = nn.BCELoss()"
   ]
  },
  {
   "cell_type": "code",
   "execution_count": 6,
   "metadata": {},
   "outputs": [],
   "source": [
    "\n",
    "def real_data_target(size):\n",
    "    data = Variable(torch.ones(size, 1))\n",
    "    if torch.cuda.is_available():\n",
    "        return data.cuda()\n",
    "    return data\n",
    "\n",
    "\n",
    "def fake_data_target(size):\n",
    "    data = Variable(torch.zeros(size, 1))\n",
    "    if torch.cuda.is_available():\n",
    "        return data.cuda()\n",
    "    return data\n",
    "  \n",
    "def rand_noise(size):\n",
    "    noise = Variable(torch.randn(size, 100))\n",
    "    if torch.cuda.is_available():\n",
    "        return noise.cuda()\n",
    "    return noise\n",
    "\n",
    "\n",
    "def train_d(optimizer, x_real, x_fake):\n",
    "    optimizer.zero_grad()\n",
    "\n",
    "    y_real = discriminator(x_real)\n",
    "    err_real = loss(y_real, real_data_target(x_real.size(0)))\n",
    "    err_real.backward()\n",
    "\n",
    "    y_fake = discriminator(x_fake)\n",
    "    err_fake = loss(y_fake, fake_data_target(x_real.size(0)))\n",
    "    err_fake.backward()\n",
    "\n",
    "    optimizer.step()\n",
    "\n",
    "    return err_real + err_fake, y_real, y_fake\n",
    "  \n",
    "def train_g(optimizer, x_fake):\n",
    "    optimizer.zero_grad()\n",
    "    y_pred = discriminator(x_fake)\n",
    "    err = loss(y_pred, real_data_target(y_pred.size(0)))\n",
    "    err.backward()\n",
    "    optimizer.step()\n",
    "    return err\n",
    "\n",
    "n_epochs = 100\n",
    "n_test_samples = 1\n",
    "noise = rand_noise(n_test_samples)"
   ]
  },
  {
   "cell_type": "code",
   "execution_count": null,
   "metadata": {},
   "outputs": [],
   "source": [
    "for epoch in range(n_epochs):\n",
    "    for n_batch, (real_batch, _) in enumerate(data_loader):\n",
    "        x_real = Variable(real_batch)\n",
    "        if torch.cuda.is_available():\n",
    "            x_real = x_real.cuda()\n",
    "        x_fake = generator(rand_noise(x_real.size(0))).detach()\n",
    "        d_err, d_pred_real, d_pred_fake = train_d(optimizer_d, x_real, x_fake)\n",
    "        x_fake = generator(rand_noise(real_batch.size(0)))\n",
    "        g_err = train_g(optimizer_g, x_fake)\n",
    "\n",
    "        if (n_batch) % 100 == 0:\n",
    "            # display.clear_output(True)\n",
    "            image = generator(noise).data.cpu()\n",
    "            %matplotlib inline\n",
    "            # image = Image(ToPILImage(image))\n",
    "            display(image)\n",
    "            print('Epoch %d/%d, d_err: %.10f g_err: %.10f' % (\n",
    "            epoch, n_epochs, d_err, g_err))"
   ]
  },
  {
   "cell_type": "code",
   "execution_count": 32,
   "metadata": {},
   "outputs": [
    {
     "data": {
      "text/plain": [
       "<matplotlib.image.AxesImage at 0x12460ad68>"
      ]
     },
     "execution_count": 32,
     "metadata": {},
     "output_type": "execute_result"
    },
    {
     "data": {
      "image/png": "[encoded data removed]",
      "text/plain": [
       "<Figure size 432x288 with 1 Axes>"
      ]
     },
     "metadata": {
      "needs_background": "light"
     },
     "output_type": "display_data"
    }
   ],
   "source": [
    "image = generator(noise).data.cpu()\n",
    "npimg = image.numpy()\n",
    "plt.imshow((npimg.reshape(64,64,3) * 255).astype(np.uint8), interpolation='nearest')"
   ]
  },
  {
   "cell_type": "code",
   "execution_count": null,
   "metadata": {},
   "outputs": [],
   "source": []
  },
  {
   "cell_type": "code",
   "execution_count": null,
   "metadata": {},
   "outputs": [],
   "source": []
  }
 ],
 "metadata": {
  "kernelspec": {
   "display_name": "Python 3",
   "language": "python",
   "name": "python3"
  },
  "language_info": {
   "codemirror_mode": {
    "name": "ipython",
    "version": 3
   },
   "file_extension": ".py",
   "mimetype": "text/x-python",
   "name": "python",
   "nbconvert_exporter": "python",
   "pygments_lexer": "ipython3",
   "version": "3.7.0"
  }
 },
 "nbformat": 4,
 "nbformat_minor": 2
}
