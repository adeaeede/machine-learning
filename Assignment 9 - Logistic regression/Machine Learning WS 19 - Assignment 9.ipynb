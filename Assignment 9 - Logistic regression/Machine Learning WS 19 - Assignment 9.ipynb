{
 "cells": [
  {
   "cell_type": "markdown",
   "metadata": {},
   "source": [
    "Adrian Gruszczynski / Yann Salimi"
   ]
  },
  {
   "cell_type": "markdown",
   "metadata": {},
   "source": [
    "# Logistic Regression"
   ]
  },
  {
   "cell_type": "code",
   "execution_count": 1,
   "metadata": {},
   "outputs": [],
   "source": [
    "import numpy as np\n",
    "import pandas as pd\n",
    "import matplotlib.pyplot as plt\n",
    "import sklearn.preprocessing as sp"
   ]
  },
  {
   "cell_type": "code",
   "execution_count": 18,
   "metadata": {},
   "outputs": [],
   "source": [
    "class LogisticRegression:\n",
    "    def __init__(self):\n",
    "        self.weights = None\n",
    "        self.alpha = 0\n",
    "        self.n_features = 0\n",
    "        self.n_samples = 0\n",
    "\n",
    "    @property\n",
    "    def _is_initialized(self):\n",
    "        return self.weights is not None\n",
    "\n",
    "    def sigmoid(self, x):\n",
    "        return (1 / (1 + np.exp(-x)) >= .5).astype(np.int8)\n",
    "\n",
    "    #  cross entropy gradient\n",
    "    def grad_ce(self, X, y):\n",
    "        h = self.sigmoid(X @ self.weights)\n",
    "        self.weights -= self.alpha * (X.T @ (h - y) / self.n_samples)\n",
    "\n",
    "    # cross entropy loss function\n",
    "    def loss_ce(self, X, y):\n",
    "        h = self.sigmoid(X @ self.weights)\n",
    "        return ((- 1 * y.T @ np.log(h + 1e-12)) - \n",
    "                ((1 - y).T @ np.log(1 - h + 1e-12))) / self.n_samples\n",
    "\n",
    "    # mean square error loss function\n",
    "    def loss_mse(self, X, y):\n",
    "        h = self.sigmoid(X @ self.weights)\n",
    "        return np.sum(np.square(h - y)) / self.n_samples\n",
    "\n",
    "    # mean square error loss gradient\n",
    "    def grad_mse(self, X, y):\n",
    "        h = self.sigmoid(X @ self.weights)\n",
    "        self.weights -= self.alpha * (2 * np.sum((h - y) @ X)) / self.n_samples\n",
    "\n",
    "    def fit(self, X, y, alpha, n_iter, X_val, y_val, optimizer):\n",
    "        self.n_samples, self.n_features = X.shape\n",
    "        self.alpha = alpha\n",
    "        fig, (ax1, ax2) = plt.subplots(2, 1)\n",
    "\n",
    "        if optimizer == 'MSE':\n",
    "            self.weights = np.random.normal(0, .00001, X.shape[1])\n",
    "            for i in range(n_iter):\n",
    "                for batch in iterate_minibatches(X, y, 100, shuffle=True):\n",
    "                    x_batch, y_batch = batch\n",
    "                    self.grad_mse(x_batch, y_batch)\n",
    "                loss = self.loss_mse(x_batch, y_batch)\n",
    "                h = self.sigmoid(X_val @ self.weights)\n",
    "                ax1.scatter(i, loss, c='b')\n",
    "                ax1.set_ylabel('Loss')\n",
    "                ax2.scatter(i, 100 * accuracy_score(h, y_val), c='y')\n",
    "                ax2.set_ylabel('Val accuracy in %')\n",
    "                ax2.set_xlabel('No. iterations')\n",
    "            y_pred = self.sigmoid(X_val @ self.weights)\n",
    "            accuracy = 100 * accuracy_score(y_val, y_pred)\n",
    "            fig.suptitle('MSE')\n",
    "            plt.show()\n",
    "            print('MSE accuracy: %.2f%%' % accuracy)\n",
    "\n",
    "        elif optimizer == 'CE':\n",
    "            self.weights = np.random.normal(0, .001, X.shape[1])\n",
    "            for i in range(n_iter):\n",
    "                for batch in iterate_minibatches(X, y, 100, shuffle=True):\n",
    "                    x_batch, y_batch = batch\n",
    "                    self.grad_ce(x_batch, y_batch)\n",
    "                loss = self.loss_ce(x_batch, y_batch)\n",
    "                h = self.sigmoid(X_val @ self.weights)\n",
    "                ax1.scatter(i, loss, c='b')\n",
    "                ax1.set_ylabel('Loss')\n",
    "                ax2.scatter(i, 100 * accuracy_score(h, y_val), c='y')\n",
    "                ax2.set_ylabel('Val accuracy in %')\n",
    "                ax2.set_xlabel('No. iterations')\n",
    "            y_pred = self.sigmoid(X_val @ self.weights)\n",
    "            accuracy = 100 * accuracy_score(y_val, y_pred)\n",
    "            fig.suptitle('Cross-entropy')\n",
    "            plt.show()\n",
    "            print('Cross entropy accuracy: %.2f%%' % accuracy)\n",
    "\n",
    "        else:\n",
    "            raise ValueError('specified optimizer not found')\n"
   ]
  },
  {
   "cell_type": "code",
   "execution_count": 4,
   "metadata": {},
   "outputs": [],
   "source": [
    "def iterate_minibatches(inputs, targets, batchsize, shuffle=False):\n",
    "    assert inputs.shape[0] == targets.shape[0]\n",
    "    if shuffle:\n",
    "        indices = np.arange(inputs.shape[0])\n",
    "        np.random.shuffle(indices)\n",
    "    for start_idx in range(0, inputs.shape[0] - batchsize + 1, batchsize):\n",
    "        if shuffle:\n",
    "            excerpt = indices[start_idx:start_idx + batchsize]\n",
    "        else:\n",
    "            excerpt = slice(start_idx, start_idx + batchsize)\n",
    "        yield inputs[excerpt], targets[excerpt]\n",
    "\n",
    "\n",
    "def accuracy_score(y_true, y_pred):\n",
    "    if y_true.shape != y_pred.shape:\n",
    "        raise ValueError('array shapes do not match')\n",
    "    return np.sum(np.equal(y_true, y_pred)) / len(y_true)\n",
    "\n",
    "\n",
    "def unison_shuffle(a, b):\n",
    "    if len(a) != len(b):\n",
    "        raise ValueError('array lengths do not match')\n",
    "    idx = np.random.permutation(len(a))\n",
    "    return a[idx], b[idx]"
   ]
  },
  {
   "cell_type": "code",
   "execution_count": 15,
   "metadata": {},
   "outputs": [
    {
     "data": {
      "image/png": "[encoded data removed]",
      "text/plain": [
       "<Figure size 432x288 with 2 Axes>"
      ]
     },
     "metadata": {
      "needs_background": "light"
     },
     "output_type": "display_data"
    },
    {
     "name": "stdout",
     "output_type": "stream",
     "text": [
      "Cross entropy accuracy: 90.27%\n"
     ]
    },
    {
     "data": {
      "image/png": "[encoded data removed]",
      "text/plain": [
       "<Figure size 432x288 with 2 Axes>"
      ]
     },
     "metadata": {
      "needs_background": "light"
     },
     "output_type": "display_data"
    },
    {
     "name": "stdout",
     "output_type": "stream",
     "text": [
      "MSE accuracy: 60.32%\n"
     ]
    }
   ],
   "source": [
    "if __name__ == '__main__':\n",
    "    np.random.seed(123456)\n",
    "\n",
    "    df = np.array(pd.read_csv('spambase.data', header=None))\n",
    "\n",
    "    X, y = df[:, :-1], df[:, -1].astype(np.bool_)\n",
    "    X, y = unison_shuffle(X, y)\n",
    "\n",
    "    scaler = sp.MinMaxScaler(feature_range=(0, 1))\n",
    "    scaler.fit(X)\n",
    "    X = scaler.transform(X)\n",
    "\n",
    "    split = len(X) // 2\n",
    "\n",
    "    X_train, y_train = X[:split], y[:split]\n",
    "    X_val, y_val = X[split:], y[split:]\n",
    "\n",
    "    lr = LogisticRegression()\n",
    "    lr.fit(X_train, y_train, 1, 201, X_val, y_val, 'CE')\n",
    "    lr.fit(X_train, y_train, .1, 202, X_val, y_val, 'MSE')"
   ]
  },
  {
   "cell_type": "markdown",
   "metadata": {},
   "source": [
    "## (a) Try both Cross Entropy and Squared Error as loss functions. Compare the results and explain the difference."
   ]
  },
  {
   "cell_type": "markdown",
   "metadata": {},
   "source": [
    "The difference in results is caused by the fact, that MSE in neural networks, in opposite to cross-entropy, is not a convex function. Logistic regression can be seen as a special case of neural network with no hidden layers."
   ]
  },
  {
   "cell_type": "markdown",
   "metadata": {},
   "source": [
    "Thus using cross-entropy gradient results in converging towards the global minimum whereas using MSE gradient can result in convergence towards local minimum."
   ]
  },
  {
   "cell_type": "markdown",
   "metadata": {},
   "source": [
    "## (b) Assuming that the labels are from the set {1, −1}, how would you modify the activation function without changing the label-values?"
   ]
  },
  {
   "cell_type": "markdown",
   "metadata": {},
   "source": [
    "We could use $tanh(x)$ as the activation function and map every $x<0$ to $-1$ and $x\\geq0$ to 1 respectively."
   ]
  },
  {
   "cell_type": "code",
   "execution_count": null,
   "metadata": {},
   "outputs": [],
   "source": []
  }
 ],
 "metadata": {
  "kernelspec": {
   "display_name": "Python 3",
   "language": "python",
   "name": "python3"
  },
  "language_info": {
   "codemirror_mode": {
    "name": "ipython",
    "version": 3
   },
   "file_extension": ".py",
   "mimetype": "text/x-python",
   "name": "python",
   "nbconvert_exporter": "python",
   "pygments_lexer": "ipython3",
   "version": "3.7.0"
  }
 },
 "nbformat": 4,
 "nbformat_minor": 2
}
